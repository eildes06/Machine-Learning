{
  "cells": [
    {
      "cell_type": "markdown",
      "metadata": {
        "id": "view-in-github",
        "colab_type": "text"
      },
      "source": [
        "<a href=\"https://colab.research.google.com/github/eildes06/Machine-Learning/blob/main/CNN_Project_Image_Classification_with_CNN_(catdogclassifier)_emine_ipynb_adl%C4%B1_not_defterinin_kopyas%C4%B1.ipynb\" target=\"_parent\"><img src=\"https://colab.research.google.com/assets/colab-badge.svg\" alt=\"Open In Colab\"/></a>"
      ]
    },
    {
      "cell_type": "markdown",
      "metadata": {
        "id": "QCk7gQaaH3Hy"
      },
      "source": [
        "<p style=\"text-align: center;\"><img src=\"https://docs.google.com/uc?id=1lY0Uj5R04yMY3-ZppPWxqCr5pvBLYPnV\" class=\"img-fluid\" alt=\"Rossum\"></p>"
      ]
    },
    {
      "cell_type": "markdown",
      "metadata": {
        "id": "KAckTrSGGTaZ"
      },
      "source": [
        "<h1 style=\"text-align: center;\">Deep Learning<br><br>Image Classification with CNN<br><br>Cat-Dog Classification Project<br><h1>"
      ]
    },
    {
      "cell_type": "markdown",
      "metadata": {
        "id": "lRyehzQ_GTaa"
      },
      "source": [
        "# Dataset Info"
      ]
    },
    {
      "cell_type": "markdown",
      "metadata": {
        "id": "mFEz-C4FGTab"
      },
      "source": [
        "The Dogs vs. Cats dataset is a common computer vision dataset in which pictures are classified as either including a dog or a cat.\n",
        "\n",
        "After the dataset is well studied, it can be used to understand and practice how to design, evaluate, and apply convolutional neural networks for image classification.\n",
        "\n",
        "You will build a classifier with images and try to detect dogs versus cats using CNN.\n",
        "\n",
        "Train set includes 12500 cat-5026 dog images, validation set includes 1219 cat-1071 dog images and test set incgludes 6897 cat and dogs images together. "
      ]
    },
    {
      "cell_type": "markdown",
      "metadata": {
        "id": "toa2XS_ZSRUx"
      },
      "source": [
        "# Import Libraries and Export Images from Zip_File"
      ]
    },
    {
      "cell_type": "code",
      "execution_count": 1,
      "metadata": {
        "id": "pmeR5fE1SRUx"
      },
      "outputs": [],
      "source": [
        "import os\n",
        "import numpy as np\n",
        "import pandas as pd\n",
        "import matplotlib.pyplot as plt\n",
        "import seaborn as sns\n",
        "from matplotlib.image import imread\n",
        "\n",
        "#import warnings\n",
        "#warnings.filterwarnings(\"ignore\")\n",
        "#warnings.warn(\"this will not show\")\n",
        "\n",
        "plt.rcParams[\"figure.figsize\"] = (10,6)\n",
        "\n",
        "sns.set_style(\"whitegrid\")\n",
        "pd.set_option('display.float_format', lambda x: '%.3f' % x)\n",
        "\n",
        "# Set it None to display all rows in the dataframe\n",
        "# pd.set_option('display.max_rows', None)\n",
        "\n",
        "# Set it to None to display all columns in the dataframe\n",
        "pd.set_option('display.max_columns', None)"
      ]
    },
    {
      "cell_type": "code",
      "execution_count": 2,
      "metadata": {
        "id": "40os8ok6SRUx",
        "colab": {
          "base_uri": "https://localhost:8080/"
        },
        "outputId": "3225998a-0f5f-4b7f-ad0a-768e4869960c"
      },
      "outputs": [
        {
          "output_type": "execute_result",
          "data": {
            "text/plain": [
              "[PhysicalDevice(name='/physical_device:GPU:0', device_type='GPU')]"
            ]
          },
          "metadata": {},
          "execution_count": 2
        }
      ],
      "source": [
        "import tensorflow as tf\n",
        "\n",
        "tf.config.list_physical_devices(\"GPU\")"
      ]
    },
    {
      "cell_type": "code",
      "execution_count": 3,
      "metadata": {
        "id": "OwkK1xGlSRUy",
        "colab": {
          "base_uri": "https://localhost:8080/"
        },
        "outputId": "8e568ac8-23b2-40cb-fb44-93ed206a68b0"
      },
      "outputs": [
        {
          "output_type": "stream",
          "name": "stdout",
          "text": [
            "Drive already mounted at /content/drive; to attempt to forcibly remount, call drive.mount(\"/content/drive\", force_remount=True).\n"
          ]
        }
      ],
      "source": [
        "from google.colab import drive\n",
        "drive.mount('/content/drive')"
      ]
    },
    {
      "cell_type": "code",
      "execution_count": 4,
      "metadata": {
        "id": "ALbGS3y_SRUy"
      },
      "outputs": [],
      "source": [
        "import zipfile\n",
        "\n",
        "# Unzip the file\n",
        "zip_ref = zipfile.ZipFile(\"/content/drive/MyDrive/Data/cat_dog_data.zip\", \"r\")\n",
        "zip_ref.extractall()\n",
        "zip_ref.close()"
      ]
    },
    {
      "cell_type": "markdown",
      "metadata": {
        "id": "IGPobqAnGTaf"
      },
      "source": [
        "# Recognizing and Understanding Data"
      ]
    },
    {
      "cell_type": "code",
      "execution_count": 5,
      "metadata": {
        "id": "2Fv3YiIZSRUz"
      },
      "outputs": [],
      "source": [
        "my_data_dir =(\"/content/data\")"
      ]
    },
    {
      "cell_type": "code",
      "execution_count": 6,
      "metadata": {
        "id": "m4yYJLksSRUz",
        "colab": {
          "base_uri": "https://localhost:8080/"
        },
        "outputId": "0db3e75e-0a92-4bc5-b9bf-71dcd111ad54"
      },
      "outputs": [
        {
          "output_type": "execute_result",
          "data": {
            "text/plain": [
              "['validation', 'test', 'train']"
            ]
          },
          "metadata": {},
          "execution_count": 6
        }
      ],
      "source": [
        "os.listdir(my_data_dir) "
      ]
    },
    {
      "cell_type": "code",
      "execution_count": 7,
      "metadata": {
        "id": "GKiFcNnQSRUz"
      },
      "outputs": [],
      "source": [
        "test_path = my_data_dir + '/test/'\n",
        "train_path = my_data_dir + '/train/'\n",
        "val_path = my_data_dir + '/validation/'\n"
      ]
    },
    {
      "cell_type": "code",
      "execution_count": 8,
      "metadata": {
        "id": "Pq5POXq3SRUz",
        "colab": {
          "base_uri": "https://localhost:8080/"
        },
        "outputId": "1fae77cc-bccf-465c-e728-b15b4190c93d"
      },
      "outputs": [
        {
          "output_type": "execute_result",
          "data": {
            "text/plain": [
              "['3635.jpg',\n",
              " '4876.jpg',\n",
              " '5838.jpg',\n",
              " '5058.jpg',\n",
              " '12180.jpg',\n",
              " '3000.jpg',\n",
              " '5656.jpg',\n",
              " '4063.jpg',\n",
              " '4133.jpg',\n",
              " '11846.jpg',\n",
              " '11077.jpg',\n",
              " '4979.jpg',\n",
              " '3961.jpg',\n",
              " '5335.jpg',\n",
              " '6783.jpg',\n",
              " '10482.jpg',\n",
              " '10245.jpg',\n",
              " '5008.jpg',\n",
              " '6627.jpg',\n",
              " '6443.jpg',\n",
              " '11347.jpg',\n",
              " '11289.jpg',\n",
              " '4089.jpg',\n",
              " '12159.jpg',\n",
              " '3590.jpg',\n",
              " '5351.jpg',\n",
              " '5728.jpg',\n",
              " '3966.jpg',\n",
              " '10538.jpg',\n",
              " '12136.jpg',\n",
              " '10130.jpg',\n",
              " '11517.jpg',\n",
              " '4360.jpg',\n",
              " '3455.jpg',\n",
              " '5607.jpg',\n",
              " '4180.jpg',\n",
              " '4936.jpg',\n",
              " '6033.jpg',\n",
              " '6416.jpg',\n",
              " '10027.jpg',\n",
              " '3362.jpg',\n",
              " '5395.jpg',\n",
              " '10929.jpg',\n",
              " '4747.jpg',\n",
              " '6334.jpg',\n",
              " '10613.jpg',\n",
              " '6440.jpg',\n",
              " '6307.jpg',\n",
              " '7161.jpg',\n",
              " '12459.jpg',\n",
              " '6266.jpg',\n",
              " '12495.jpg',\n",
              " '5225.jpg',\n",
              " '3176.jpg',\n",
              " '5650.jpg',\n",
              " '3311.jpg',\n",
              " '5003.jpg',\n",
              " '11958.jpg',\n",
              " '4514.jpg',\n",
              " '12149.jpg',\n",
              " '6090.jpg',\n",
              " '12462.jpg',\n",
              " '4516.jpg',\n",
              " '3399.jpg',\n",
              " '3604.jpg',\n",
              " '3282.jpg',\n",
              " '6543.jpg',\n",
              " '4910.jpg',\n",
              " '4502.jpg',\n",
              " '10488.jpg',\n",
              " '11529.jpg',\n",
              " '4451.jpg',\n",
              " '6301.jpg',\n",
              " '5564.jpg',\n",
              " '4843.jpg',\n",
              " '12307.jpg',\n",
              " '3894.jpg',\n",
              " '5987.jpg',\n",
              " '3819.jpg',\n",
              " '6636.jpg',\n",
              " '12368.jpg',\n",
              " '12141.jpg',\n",
              " '12284.jpg',\n",
              " '3461.jpg',\n",
              " '4448.jpg',\n",
              " '5894.jpg',\n",
              " '6651.jpg',\n",
              " '5537.jpg',\n",
              " '5784.jpg',\n",
              " '5811.jpg',\n",
              " '11465.jpg',\n",
              " '4917.jpg',\n",
              " '5916.jpg',\n",
              " '3004.jpg',\n",
              " '3565.jpg',\n",
              " '6846.jpg',\n",
              " '6417.jpg',\n",
              " '12289.jpg',\n",
              " '5674.jpg',\n",
              " '12056.jpg',\n",
              " '4888.jpg',\n",
              " '4499.jpg',\n",
              " '12081.jpg',\n",
              " '4308.jpg',\n",
              " '12429.jpg',\n",
              " '3738.jpg',\n",
              " '11423.jpg',\n",
              " '5937.jpg',\n",
              " '5328.jpg',\n",
              " '6231.jpg',\n",
              " '4335.jpg',\n",
              " '5957.jpg',\n",
              " '4532.jpg',\n",
              " '11577.jpg',\n",
              " '11286.jpg',\n",
              " '5456.jpg',\n",
              " '6155.jpg',\n",
              " '5812.jpg',\n",
              " '3778.jpg',\n",
              " '10409.jpg',\n",
              " '6273.jpg',\n",
              " '5068.jpg',\n",
              " '6531.jpg',\n",
              " '3160.jpg',\n",
              " '4630.jpg',\n",
              " '3206.jpg',\n",
              " '3776.jpg',\n",
              " '11649.jpg',\n",
              " '4942.jpg',\n",
              " '6229.jpg',\n",
              " '3886.jpg',\n",
              " '5990.jpg',\n",
              " '10263.jpg',\n",
              " '6876.jpg',\n",
              " '10567.jpg',\n",
              " '6067.jpg',\n",
              " '5750.jpg',\n",
              " '12179.jpg',\n",
              " '4597.jpg',\n",
              " '10266.jpg',\n",
              " '2771.jpg',\n",
              " '3637.jpg',\n",
              " '4711.jpg',\n",
              " '10439.jpg',\n",
              " '3027.jpg',\n",
              " '6774.jpg',\n",
              " '5685.jpg',\n",
              " '10071.jpg',\n",
              " '10216.jpg',\n",
              " '12337.jpg',\n",
              " '3593.jpg',\n",
              " '2969.jpg',\n",
              " '3620.jpg',\n",
              " '3587.jpg',\n",
              " '2956.jpg',\n",
              " '12185.jpg',\n",
              " '5212.jpg',\n",
              " '4649.jpg',\n",
              " '3130.jpg',\n",
              " '4749.jpg',\n",
              " '10685.jpg',\n",
              " '10609.jpg',\n",
              " '10643.jpg',\n",
              " '11914.jpg',\n",
              " '10942.jpg',\n",
              " '10117.jpg',\n",
              " '3422.jpg',\n",
              " '4583.jpg',\n",
              " '6489.jpg',\n",
              " '5558.jpg',\n",
              " '3069.jpg',\n",
              " '5308.jpg',\n",
              " '10882.jpg',\n",
              " '4102.jpg',\n",
              " '6672.jpg',\n",
              " '6665.jpg',\n",
              " '4725.jpg',\n",
              " '10476.jpg',\n",
              " '4748.jpg',\n",
              " '3901.jpg',\n",
              " '11962.jpg',\n",
              " '6615.jpg',\n",
              " '11701.jpg',\n",
              " '3115.jpg',\n",
              " '5662.jpg',\n",
              " '5773.jpg',\n",
              " '4852.jpg',\n",
              " '11571.jpg',\n",
              " '4076.jpg',\n",
              " '4668.jpg',\n",
              " '4026.jpg',\n",
              " '5690.jpg',\n",
              " '5012.jpg',\n",
              " '4477.jpg',\n",
              " '10770.jpg',\n",
              " '4718.jpg',\n",
              " '4900.jpg',\n",
              " '7024.jpg',\n",
              " '5645.jpg',\n",
              " '10555.jpg',\n",
              " '7061.jpg',\n",
              " '6915.jpg',\n",
              " '11003.jpg',\n",
              " '2813.jpg',\n",
              " '11084.jpg',\n",
              " '6723.jpg',\n",
              " '4099.jpg',\n",
              " '3784.jpg',\n",
              " '4780.jpg',\n",
              " '11800.jpg',\n",
              " '11422.jpg',\n",
              " '5605.jpg',\n",
              " '11963.jpg',\n",
              " '10222.jpg',\n",
              " '5127.jpg',\n",
              " '5479.jpg',\n",
              " '5823.jpg',\n",
              " '5019.jpg',\n",
              " '4145.jpg',\n",
              " '10136.jpg',\n",
              " '6711.jpg',\n",
              " '11619.jpg',\n",
              " '4923.jpg',\n",
              " '10495.jpg',\n",
              " '3082.jpg',\n",
              " '12031.jpg',\n",
              " '4825.jpg',\n",
              " '4795.jpg',\n",
              " '3258.jpg',\n",
              " '3051.jpg',\n",
              " '5235.jpg',\n",
              " '10247.jpg',\n",
              " '5247.jpg',\n",
              " '3962.jpg',\n",
              " '3902.jpg',\n",
              " '3714.jpg',\n",
              " '11907.jpg',\n",
              " '6856.jpg',\n",
              " '3803.jpg',\n",
              " '12132.jpg',\n",
              " '5720.jpg',\n",
              " '10768.jpg',\n",
              " '12066.jpg',\n",
              " '6360.jpg',\n",
              " '10212.jpg',\n",
              " '11382.jpg',\n",
              " '10709.jpg',\n",
              " '10665.jpg',\n",
              " '6016.jpg',\n",
              " '5821.jpg',\n",
              " '10621.jpg',\n",
              " '3501.jpg',\n",
              " '5676.jpg',\n",
              " '11096.jpg',\n",
              " '11691.jpg',\n",
              " '2756.jpg',\n",
              " '6118.jpg',\n",
              " '4623.jpg',\n",
              " '11048.jpg',\n",
              " '10931.jpg',\n",
              " '11776.jpg',\n",
              " '6318.jpg',\n",
              " '11593.jpg',\n",
              " '4680.jpg',\n",
              " '4297.jpg',\n",
              " '12314.jpg',\n",
              " '3340.jpg',\n",
              " '10011.jpg',\n",
              " '10763.jpg',\n",
              " '6790.jpg',\n",
              " '6654.jpg',\n",
              " '4692.jpg',\n",
              " '11301.jpg',\n",
              " '4046.jpg',\n",
              " '11699.jpg',\n",
              " '3665.jpg',\n",
              " '10761.jpg',\n",
              " '11771.jpg',\n",
              " '10297.jpg',\n",
              " '10153.jpg',\n",
              " '11017.jpg',\n",
              " '3033.jpg',\n",
              " '5619.jpg',\n",
              " '6289.jpg',\n",
              " '5113.jpg',\n",
              " '3792.jpg',\n",
              " '5105.jpg',\n",
              " '4245.jpg',\n",
              " '12205.jpg',\n",
              " '6221.jpg',\n",
              " '5136.jpg',\n",
              " '3775.jpg',\n",
              " '10740.jpg',\n",
              " '4300.jpg',\n",
              " '3146.jpg',\n",
              " '11064.jpg',\n",
              " '11211.jpg',\n",
              " '10550.jpg',\n",
              " '11380.jpg',\n",
              " '12197.jpg',\n",
              " '3257.jpg',\n",
              " '4097.jpg',\n",
              " '4380.jpg',\n",
              " '10596.jpg',\n",
              " '3288.jpg',\n",
              " '6134.jpg',\n",
              " '7062.jpg',\n",
              " '3307.jpg',\n",
              " '11843.jpg',\n",
              " '4223.jpg',\n",
              " '4742.jpg',\n",
              " '6197.jpg',\n",
              " '4576.jpg',\n",
              " '6595.jpg',\n",
              " '5828.jpg',\n",
              " '11624.jpg',\n",
              " '3402.jpg',\n",
              " '11051.jpg',\n",
              " '11530.jpg',\n",
              " '3035.jpg',\n",
              " '3381.jpg',\n",
              " '5741.jpg',\n",
              " '11311.jpg',\n",
              " '3280.jpg',\n",
              " '11458.jpg',\n",
              " '6942.jpg',\n",
              " '12097.jpg',\n",
              " '12374.jpg',\n",
              " '11798.jpg',\n",
              " '10900.jpg',\n",
              " '5860.jpg',\n",
              " '6553.jpg',\n",
              " '6895.jpg',\n",
              " '10274.jpg',\n",
              " '6060.jpg',\n",
              " '3003.jpg',\n",
              " '3267.jpg',\n",
              " '5148.jpg',\n",
              " '6164.jpg',\n",
              " '11149.jpg',\n",
              " '10577.jpg',\n",
              " '11243.jpg',\n",
              " '3828.jpg',\n",
              " '11727.jpg',\n",
              " '3101.jpg',\n",
              " '3480.jpg',\n",
              " '12407.jpg',\n",
              " '12057.jpg',\n",
              " '3384.jpg',\n",
              " '10547.jpg',\n",
              " '5452.jpg',\n",
              " '10994.jpg',\n",
              " '10683.jpg',\n",
              " '4677.jpg',\n",
              " '6788.jpg',\n",
              " '5358.jpg',\n",
              " '6562.jpg',\n",
              " '11946.jpg',\n",
              " '3494.jpg',\n",
              " '6348.jpg',\n",
              " '6160.jpg',\n",
              " '6113.jpg',\n",
              " '4727.jpg',\n",
              " '10259.jpg',\n",
              " '11346.jpg',\n",
              " '10359.jpg',\n",
              " '12322.jpg',\n",
              " '3851.jpg',\n",
              " '4664.jpg',\n",
              " '5226.jpg',\n",
              " '5432.jpg',\n",
              " '12127.jpg',\n",
              " '7168.jpg',\n",
              " '10869.jpg',\n",
              " '10582.jpg',\n",
              " '3339.jpg',\n",
              " '10119.jpg',\n",
              " '6905.jpg',\n",
              " '4874.jpg',\n",
              " '5949.jpg',\n",
              " '6584.jpg',\n",
              " '4574.jpg',\n",
              " '5573.jpg',\n",
              " '11352.jpg',\n",
              " '5535.jpg',\n",
              " '5888.jpg',\n",
              " '6731.jpg',\n",
              " '5818.jpg',\n",
              " '3547.jpg',\n",
              " '5859.jpg',\n",
              " '4129.jpg',\n",
              " '5153.jpg',\n",
              " '11218.jpg',\n",
              " '3249.jpg',\n",
              " '11554.jpg',\n",
              " '6566.jpg',\n",
              " '10234.jpg',\n",
              " '6395.jpg',\n",
              " '12500.jpg',\n",
              " '4734.jpg',\n",
              " '11822.jpg',\n",
              " '3118.jpg',\n",
              " '5473.jpg',\n",
              " '11354.jpg',\n",
              " '6759.jpg',\n",
              " '10716.jpg',\n",
              " '12222.jpg',\n",
              " '5733.jpg',\n",
              " '5840.jpg',\n",
              " '12230.jpg',\n",
              " '10556.jpg',\n",
              " '7152.jpg',\n",
              " '4497.jpg',\n",
              " '6703.jpg',\n",
              " '2992.jpg',\n",
              " '10169.jpg',\n",
              " '5118.jpg',\n",
              " '4043.jpg',\n",
              " '3897.jpg',\n",
              " '3063.jpg',\n",
              " '6069.jpg',\n",
              " '6616.jpg',\n",
              " '6500.jpg',\n",
              " '4645.jpg',\n",
              " '6968.jpg',\n",
              " '4368.jpg',\n",
              " '3546.jpg',\n",
              " '6397.jpg',\n",
              " '3985.jpg',\n",
              " '6002.jpg',\n",
              " '5197.jpg',\n",
              " '12371.jpg',\n",
              " '3848.jpg',\n",
              " '3416.jpg',\n",
              " '5526.jpg',\n",
              " '3357.jpg',\n",
              " '10354.jpg',\n",
              " '10881.jpg',\n",
              " '6822.jpg',\n",
              " '6949.jpg',\n",
              " '10608.jpg',\n",
              " '10437.jpg',\n",
              " '10078.jpg',\n",
              " '10002.jpg',\n",
              " '11120.jpg',\n",
              " '6808.jpg',\n",
              " '5131.jpg',\n",
              " '3812.jpg',\n",
              " '3209.jpg',\n",
              " '3517.jpg',\n",
              " '3440.jpg',\n",
              " '5961.jpg',\n",
              " '5544.jpg',\n",
              " '3317.jpg',\n",
              " '2961.jpg',\n",
              " '11427.jpg',\n",
              " '7094.jpg',\n",
              " '6382.jpg',\n",
              " '4802.jpg',\n",
              " '11376.jpg',\n",
              " '5806.jpg',\n",
              " '10728.jpg',\n",
              " '10867.jpg',\n",
              " '4466.jpg',\n",
              " '10020.jpg',\n",
              " '10958.jpg',\n",
              " '11653.jpg',\n",
              " '5301.jpg',\n",
              " '4318.jpg',\n",
              " '6877.jpg',\n",
              " '7151.jpg',\n",
              " '11992.jpg',\n",
              " '3194.jpg',\n",
              " '4116.jpg',\n",
              " '2959.jpg',\n",
              " '12493.jpg',\n",
              " '12474.jpg',\n",
              " '10172.jpg',\n",
              " '3139.jpg',\n",
              " '5917.jpg',\n",
              " '3835.jpg',\n",
              " '2872.jpg',\n",
              " '3988.jpg',\n",
              " '3890.jpg',\n",
              " '5664.jpg',\n",
              " '5425.jpg',\n",
              " '10639.jpg',\n",
              " '10795.jpg',\n",
              " '4404.jpg',\n",
              " '12461.jpg',\n",
              " '11284.jpg',\n",
              " '2866.jpg',\n",
              " '11194.jpg',\n",
              " '5166.jpg',\n",
              " '11740.jpg',\n",
              " '4029.jpg',\n",
              " '4142.jpg',\n",
              " '11322.jpg',\n",
              " '4418.jpg',\n",
              " '10747.jpg',\n",
              " '4214.jpg',\n",
              " '3215.jpg',\n",
              " '11281.jpg',\n",
              " '11175.jpg',\n",
              " '7079.jpg',\n",
              " '4809.jpg',\n",
              " '4055.jpg',\n",
              " '11235.jpg',\n",
              " '12278.jpg',\n",
              " '10545.jpg',\n",
              " '6715.jpg',\n",
              " '5180.jpg',\n",
              " '10767.jpg',\n",
              " '6369.jpg',\n",
              " '5798.jpg',\n",
              " '4091.jpg',\n",
              " '6083.jpg',\n",
              " '6954.jpg',\n",
              " '4290.jpg',\n",
              " '4348.jpg',\n",
              " '3277.jpg',\n",
              " '7013.jpg',\n",
              " '3922.jpg',\n",
              " '11535.jpg',\n",
              " '6410.jpg',\n",
              " '2968.jpg',\n",
              " '5123.jpg',\n",
              " '3140.jpg',\n",
              " '10334.jpg',\n",
              " '5080.jpg',\n",
              " '4967.jpg',\n",
              " '4974.jpg',\n",
              " '6338.jpg',\n",
              " '11938.jpg',\n",
              " '4851.jpg',\n",
              " '3100.jpg',\n",
              " '4040.jpg',\n",
              " '3182.jpg',\n",
              " '3849.jpg',\n",
              " '6625.jpg',\n",
              " '10544.jpg',\n",
              " '6040.jpg',\n",
              " '10751.jpg',\n",
              " '4828.jpg',\n",
              " '11737.jpg',\n",
              " '5037.jpg',\n",
              " '4068.jpg',\n",
              " '5813.jpg',\n",
              " '4838.jpg',\n",
              " '6023.jpg',\n",
              " '3793.jpg',\n",
              " '3584.jpg',\n",
              " '10321.jpg',\n",
              " '6623.jpg',\n",
              " '10380.jpg',\n",
              " '6535.jpg',\n",
              " '4262.jpg',\n",
              " '6956.jpg',\n",
              " '10206.jpg',\n",
              " '5020.jpg',\n",
              " '4738.jpg',\n",
              " '7075.jpg',\n",
              " '3318.jpg',\n",
              " '2930.jpg',\n",
              " '10046.jpg',\n",
              " '6708.jpg',\n",
              " '5004.jpg',\n",
              " '6255.jpg',\n",
              " '6497.jpg',\n",
              " '5858.jpg',\n",
              " '6234.jpg',\n",
              " '6302.jpg',\n",
              " '10651.jpg',\n",
              " '11046.jpg',\n",
              " '7122.jpg',\n",
              " '5233.jpg',\n",
              " '5911.jpg',\n",
              " '6922.jpg',\n",
              " '4804.jpg',\n",
              " '3983.jpg',\n",
              " '10483.jpg',\n",
              " '5770.jpg',\n",
              " '3516.jpg',\n",
              " '3649.jpg',\n",
              " '4679.jpg',\n",
              " '4552.jpg',\n",
              " '5318.jpg',\n",
              " '3664.jpg',\n",
              " '4148.jpg',\n",
              " '10806.jpg',\n",
              " '3705.jpg',\n",
              " '6373.jpg',\n",
              " '10137.jpg',\n",
              " '10568.jpg',\n",
              " '10335.jpg',\n",
              " '10533.jpg',\n",
              " '4140.jpg',\n",
              " '11428.jpg',\n",
              " '3475.jpg',\n",
              " '11875.jpg',\n",
              " '3875.jpg',\n",
              " '11849.jpg',\n",
              " '11232.jpg',\n",
              " '4302.jpg',\n",
              " '4604.jpg',\n",
              " '5562.jpg',\n",
              " '6480.jpg',\n",
              " '2902.jpg',\n",
              " '11563.jpg',\n",
              " '6406.jpg',\n",
              " '4327.jpg',\n",
              " '12335.jpg',\n",
              " '3854.jpg',\n",
              " '3643.jpg',\n",
              " '11395.jpg',\n",
              " '4580.jpg',\n",
              " '3171.jpg',\n",
              " '4508.jpg',\n",
              " '5648.jpg',\n",
              " '10087.jpg',\n",
              " '2947.jpg',\n",
              " '10632.jpg',\n",
              " '6686.jpg',\n",
              " '3479.jpg',\n",
              " '11657.jpg',\n",
              " '4871.jpg',\n",
              " '11991.jpg',\n",
              " '11049.jpg',\n",
              " '3924.jpg',\n",
              " '5481.jpg',\n",
              " '3323.jpg',\n",
              " '11170.jpg',\n",
              " '11534.jpg',\n",
              " '4600.jpg',\n",
              " '10111.jpg',\n",
              " '4672.jpg',\n",
              " '6834.jpg',\n",
              " '11792.jpg',\n",
              " '10840.jpg',\n",
              " '4548.jpg',\n",
              " '11809.jpg',\n",
              " '3634.jpg',\n",
              " '11412.jpg',\n",
              " '3621.jpg',\n",
              " '12243.jpg',\n",
              " '2770.jpg',\n",
              " '2807.jpg',\n",
              " '5835.jpg',\n",
              " '4615.jpg',\n",
              " '12480.jpg',\n",
              " '5363.jpg',\n",
              " '6462.jpg',\n",
              " '3888.jpg',\n",
              " '3736.jpg',\n",
              " '10611.jpg',\n",
              " '11196.jpg',\n",
              " '11648.jpg',\n",
              " '3411.jpg',\n",
              " '6396.jpg',\n",
              " '4054.jpg',\n",
              " '10872.jpg',\n",
              " '11307.jpg',\n",
              " '6589.jpg',\n",
              " '5084.jpg',\n",
              " '11913.jpg',\n",
              " '6951.jpg',\n",
              " '4375.jpg',\n",
              " '10945.jpg',\n",
              " '11371.jpg',\n",
              " '2941.jpg',\n",
              " '11520.jpg',\n",
              " '11608.jpg',\n",
              " '4670.jpg',\n",
              " '5907.jpg',\n",
              " '5460.jpg',\n",
              " '5807.jpg',\n",
              " '2810.jpg',\n",
              " '5045.jpg',\n",
              " '5094.jpg',\n",
              " '3959.jpg',\n",
              " '4373.jpg',\n",
              " '10888.jpg',\n",
              " '4822.jpg',\n",
              " '5996.jpg',\n",
              " '5147.jpg',\n",
              " '10781.jpg',\n",
              " '6054.jpg',\n",
              " '4436.jpg',\n",
              " '10003.jpg',\n",
              " '6012.jpg',\n",
              " '10114.jpg',\n",
              " '3468.jpg',\n",
              " '4155.jpg',\n",
              " '6973.jpg',\n",
              " '11936.jpg',\n",
              " '6983.jpg',\n",
              " '2917.jpg',\n",
              " '4911.jpg',\n",
              " '6446.jpg',\n",
              " '5578.jpg',\n",
              " '4050.jpg',\n",
              " '3425.jpg',\n",
              " '4963.jpg',\n",
              " '2848.jpg',\n",
              " '11144.jpg',\n",
              " '3263.jpg',\n",
              " '3212.jpg',\n",
              " '11473.jpg',\n",
              " '11253.jpg',\n",
              " '3667.jpg',\n",
              " '11671.jpg',\n",
              " '5444.jpg',\n",
              " '4478.jpg',\n",
              " '11912.jpg',\n",
              " '5015.jpg',\n",
              " '10328.jpg',\n",
              " '4168.jpg',\n",
              " '4655.jpg',\n",
              " '5925.jpg',\n",
              " '4028.jpg',\n",
              " '4120.jpg',\n",
              " '10701.jpg',\n",
              " '5814.jpg',\n",
              " '6374.jpg',\n",
              " '10186.jpg',\n",
              " '6152.jpg',\n",
              " '5446.jpg',\n",
              " '5145.jpg',\n",
              " '3396.jpg',\n",
              " '3749.jpg',\n",
              " '3045.jpg',\n",
              " '11659.jpg',\n",
              " '6659.jpg',\n",
              " '11358.jpg',\n",
              " '7037.jpg',\n",
              " '6888.jpg',\n",
              " '5342.jpg',\n",
              " '11082.jpg',\n",
              " '6252.jpg',\n",
              " '11320.jpg',\n",
              " '5642.jpg',\n",
              " '6985.jpg',\n",
              " '6427.jpg',\n",
              " '5498.jpg',\n",
              " '10396.jpg',\n",
              " '6116.jpg',\n",
              " '6713.jpg',\n",
              " '11464.jpg',\n",
              " '4372.jpg',\n",
              " '3779.jpg',\n",
              " '6271.jpg',\n",
              " '10792.jpg',\n",
              " '6124.jpg',\n",
              " '5306.jpg',\n",
              " '11028.jpg',\n",
              " '12246.jpg',\n",
              " '3877.jpg',\n",
              " '5215.jpg',\n",
              " '4637.jpg',\n",
              " '11638.jpg',\n",
              " '5060.jpg',\n",
              " '4993.jpg',\n",
              " '11528.jpg',\n",
              " '6433.jpg',\n",
              " '12436.jpg',\n",
              " '6826.jpg',\n",
              " '6247.jpg',\n",
              " '4485.jpg',\n",
              " '6084.jpg',\n",
              " '2874.jpg',\n",
              " '6020.jpg',\n",
              " '12086.jpg',\n",
              " '5322.jpg',\n",
              " '11633.jpg',\n",
              " '4805.jpg',\n",
              " '4950.jpg',\n",
              " '11138.jpg',\n",
              " '11596.jpg',\n",
              " '11781.jpg',\n",
              " '10050.jpg',\n",
              " '2816.jpg',\n",
              " '11171.jpg',\n",
              " '6200.jpg',\n",
              " '6106.jpg',\n",
              " '6594.jpg',\n",
              " '11719.jpg',\n",
              " '6966.jpg',\n",
              " '10064.jpg',\n",
              " '5644.jpg',\n",
              " '4948.jpg',\n",
              " '5695.jpg',\n",
              " '6046.jpg',\n",
              " '10678.jpg',\n",
              " '6288.jpg',\n",
              " '3508.jpg',\n",
              " '12070.jpg',\n",
              " '5577.jpg',\n",
              " '3089.jpg',\n",
              " '5250.jpg',\n",
              " '10292.jpg',\n",
              " '6548.jpg',\n",
              " '10525.jpg',\n",
              " '4096.jpg',\n",
              " '2970.jpg',\n",
              " '6345.jpg',\n",
              " '6633.jpg',\n",
              " '5128.jpg',\n",
              " '11778.jpg',\n",
              " '4880.jpg',\n",
              " '3096.jpg',\n",
              " '11160.jpg',\n",
              " '5115.jpg',\n",
              " '6519.jpg',\n",
              " '6344.jpg',\n",
              " '11257.jpg',\n",
              " '3292.jpg',\n",
              " '11663.jpg',\n",
              " '7154.jpg',\n",
              " '6504.jpg',\n",
              " '3898.jpg',\n",
              " '4854.jpg',\n",
              " '12357.jpg',\n",
              " '11975.jpg',\n",
              " '5150.jpg',\n",
              " '3548.jpg',\n",
              " '12214.jpg',\n",
              " '4690.jpg',\n",
              " '11277.jpg',\n",
              " '5755.jpg',\n",
              " '3463.jpg',\n",
              " '4566.jpg',\n",
              " '12064.jpg',\n",
              " '6643.jpg',\n",
              " '10089.jpg',\n",
              " '5504.jpg',\n",
              " '5336.jpg',\n",
              " '4685.jpg',\n",
              " '10507.jpg',\n",
              " '10967.jpg',\n",
              " '4025.jpg',\n",
              " '10659.jpg',\n",
              " '4468.jpg',\n",
              " '3913.jpg',\n",
              " '11223.jpg',\n",
              " '3404.jpg',\n",
              " '5873.jpg',\n",
              " '3488.jpg',\n",
              " '3881.jpg',\n",
              " '6053.jpg',\n",
              " '3385.jpg',\n",
              " '6004.jpg',\n",
              " '4992.jpg',\n",
              " '11403.jpg',\n",
              " '11881.jpg',\n",
              " '5758.jpg',\n",
              " '4139.jpg',\n",
              " '5275.jpg',\n",
              " '4176.jpg',\n",
              " '5542.jpg',\n",
              " '3844.jpg',\n",
              " '2888.jpg',\n",
              " '6156.jpg',\n",
              " '10320.jpg',\n",
              " '4921.jpg',\n",
              " '4756.jpg',\n",
              " '6414.jpg',\n",
              " '11166.jpg',\n",
              " '12050.jpg',\n",
              " '10103.jpg',\n",
              " '3405.jpg',\n",
              " '3518.jpg',\n",
              " '5296.jpg',\n",
              " '12488.jpg',\n",
              " '10379.jpg',\n",
              " '4707.jpg',\n",
              " '4211.jpg',\n",
              " '6604.jpg',\n",
              " '11925.jpg',\n",
              " '5594.jpg',\n",
              " '10029.jpg',\n",
              " '4745.jpg',\n",
              " '6092.jpg',\n",
              " '10035.jpg',\n",
              " '11364.jpg',\n",
              " '10706.jpg',\n",
              " '12099.jpg',\n",
              " '2753.jpg',\n",
              " '4865.jpg',\n",
              " '4275.jpg',\n",
              " '3557.jpg',\n",
              " '5177.jpg',\n",
              " '10189.jpg',\n",
              " '5661.jpg',\n",
              " '12305.jpg',\n",
              " '10364.jpg',\n",
              " '3543.jpg',\n",
              " '12216.jpg',\n",
              " '4563.jpg',\n",
              " '11815.jpg',\n",
              " '4257.jpg',\n",
              " '3457.jpg',\n",
              " '10043.jpg',\n",
              " '11845.jpg',\n",
              " '11930.jpg',\n",
              " '10973.jpg',\n",
              " '5001.jpg',\n",
              " '11724.jpg',\n",
              " '11598.jpg',\n",
              " '6946.jpg',\n",
              " '10518.jpg',\n",
              " '12073.jpg',\n",
              " '3976.jpg',\n",
              " '11824.jpg',\n",
              " '11033.jpg',\n",
              " '10344.jpg',\n",
              " '3912.jpg',\n",
              " '3535.jpg',\n",
              " '3442.jpg',\n",
              " '5075.jpg',\n",
              " '10246.jpg',\n",
              " '10240.jpg',\n",
              " '4172.jpg',\n",
              " '3302.jpg',\n",
              " '5244.jpg',\n",
              " '3253.jpg',\n",
              " '10776.jpg',\n",
              " '4613.jpg',\n",
              " '3197.jpg',\n",
              " '5929.jpg',\n",
              " '6764.jpg',\n",
              " '11764.jpg',\n",
              " '11132.jpg',\n",
              " '3538.jpg',\n",
              " '11032.jpg',\n",
              " '11729.jpg',\n",
              " '4122.jpg',\n",
              " '6848.jpg',\n",
              " '10414.jpg',\n",
              " '6986.jpg',\n",
              " '4773.jpg',\n",
              " '4509.jpg',\n",
              " '5872.jpg',\n",
              " '11662.jpg',\n",
              " '4503.jpg',\n",
              " '5563.jpg',\n",
              " '4652.jpg',\n",
              " '12423.jpg',\n",
              " '3022.jpg',\n",
              " '11331.jpg',\n",
              " '10895.jpg',\n",
              " '3068.jpg',\n",
              " '6852.jpg',\n",
              " '11432.jpg',\n",
              " '3608.jpg',\n",
              " '10421.jpg',\n",
              " '4002.jpg',\n",
              " '10393.jpg',\n",
              " '4064.jpg',\n",
              " '4293.jpg',\n",
              " '3652.jpg',\n",
              " '3932.jpg',\n",
              " '4344.jpg',\n",
              " '4319.jpg',\n",
              " '7105.jpg',\n",
              " '2836.jpg',\n",
              " '5494.jpg',\n",
              " '5352.jpg',\n",
              " '3818.jpg',\n",
              " '11115.jpg',\n",
              " '10907.jpg',\n",
              " '5305.jpg',\n",
              " '11029.jpg',\n",
              " '4238.jpg',\n",
              " '5696.jpg',\n",
              " '10085.jpg',\n",
              " '4109.jpg',\n",
              " '12489.jpg',\n",
              " '3994.jpg',\n",
              " '11111.jpg',\n",
              " '11850.jpg',\n",
              " '11955.jpg',\n",
              " '10145.jpg',\n",
              " '11982.jpg',\n",
              " '5315.jpg',\n",
              " '3023.jpg',\n",
              " '12403.jpg',\n",
              " '4683.jpg',\n",
              " '5830.jpg',\n",
              " '12317.jpg',\n",
              " '6216.jpg',\n",
              " '11693.jpg',\n",
              " '5350.jpg',\n",
              " '3686.jpg',\n",
              " '2887.jpg',\n",
              " '11642.jpg',\n",
              " '10553.jpg',\n",
              " '11012.jpg',\n",
              " '4757.jpg',\n",
              " '10353.jpg',\n",
              " '10211.jpg',\n",
              " ...]"
            ]
          },
          "metadata": {},
          "execution_count": 8
        }
      ],
      "source": [
        "os.listdir(test_path)"
      ]
    },
    {
      "cell_type": "code",
      "execution_count": 9,
      "metadata": {
        "id": "P30NbscKSRUz",
        "colab": {
          "base_uri": "https://localhost:8080/"
        },
        "outputId": "cd181127-63dc-4454-8b27-3314ae764014"
      },
      "outputs": [
        {
          "output_type": "execute_result",
          "data": {
            "text/plain": [
              "['dog', 'cat']"
            ]
          },
          "metadata": {},
          "execution_count": 9
        }
      ],
      "source": [
        "os.listdir(train_path)"
      ]
    },
    {
      "cell_type": "code",
      "execution_count": 10,
      "metadata": {
        "id": "vWKQVY0uSRUz",
        "colab": {
          "base_uri": "https://localhost:8080/"
        },
        "outputId": "5c12e3ee-bd4f-4405-c3ec-e9445bbbea2f"
      },
      "outputs": [
        {
          "output_type": "execute_result",
          "data": {
            "text/plain": [
              "['dog', 'cat']"
            ]
          },
          "metadata": {},
          "execution_count": 10
        }
      ],
      "source": [
        "classes = os.listdir(train_path)\n",
        "classes"
      ]
    },
    {
      "cell_type": "code",
      "execution_count": 11,
      "metadata": {
        "id": "K6ezFyblSRUz",
        "colab": {
          "base_uri": "https://localhost:8080/"
        },
        "outputId": "28f672ba-6b39-4952-c83e-69fecfc806ec"
      },
      "outputs": [
        {
          "output_type": "stream",
          "name": "stdout",
          "text": [
            "['cat' 'dog']\n"
          ]
        }
      ],
      "source": [
        "import pathlib\n",
        "\n",
        "data_dir = pathlib.Path(train_path) \n",
        "# turn our training path into a Python path\n",
        "class_names = np.array(sorted([item.name for item in data_dir.glob('*')])) \n",
        "# created a list of class_names from the subdirectories\n",
        "print(class_names)"
      ]
    },
    {
      "cell_type": "code",
      "source": [
        "class_names"
      ],
      "metadata": {
        "colab": {
          "base_uri": "https://localhost:8080/"
        },
        "id": "t6BojiP2WEPz",
        "outputId": "2f5b28f3-bfea-4493-987c-b544bb97e383"
      },
      "execution_count": 12,
      "outputs": [
        {
          "output_type": "execute_result",
          "data": {
            "text/plain": [
              "array(['cat', 'dog'], dtype='<U3')"
            ]
          },
          "metadata": {},
          "execution_count": 12
        }
      ]
    },
    {
      "cell_type": "code",
      "source": [
        ""
      ],
      "metadata": {
        "id": "IYeUDRS0WEMT"
      },
      "execution_count": 12,
      "outputs": []
    },
    {
      "cell_type": "markdown",
      "metadata": {
        "id": "OT8Ui7chGTak"
      },
      "source": [
        "**Let's check how many images there are.**"
      ]
    },
    {
      "cell_type": "code",
      "execution_count": 13,
      "metadata": {
        "id": "M6vlU8_KSRUz",
        "colab": {
          "base_uri": "https://localhost:8080/"
        },
        "outputId": "64f5de0c-f014-4520-f78a-f45e2193d585"
      },
      "outputs": [
        {
          "output_type": "execute_result",
          "data": {
            "text/plain": [
              "['cat.9560.jpg',\n",
              " 'cat.10959.jpg',\n",
              " 'cat.2282.jpg',\n",
              " 'cat.560.jpg',\n",
              " 'cat.4056.jpg',\n",
              " 'cat.931.jpg',\n",
              " 'cat.6286.jpg',\n",
              " 'cat.3424.jpg',\n",
              " 'cat.3004.jpg',\n",
              " 'cat.2751.jpg',\n",
              " 'cat.4085.jpg',\n",
              " 'cat.7323.jpg',\n",
              " 'cat.8753.jpg',\n",
              " 'cat.7022.jpg',\n",
              " 'cat.5908.jpg',\n",
              " 'cat.10917.jpg',\n",
              " 'cat.8775.jpg',\n",
              " 'cat.9438.jpg',\n",
              " 'cat.658.jpg',\n",
              " 'cat.5708.jpg',\n",
              " 'cat.8801.jpg',\n",
              " 'cat.4953.jpg',\n",
              " 'cat.4676.jpg',\n",
              " 'cat.12297.jpg',\n",
              " 'cat.6441.jpg',\n",
              " 'cat.761.jpg',\n",
              " 'cat.2900.jpg',\n",
              " 'cat.10328.jpg',\n",
              " 'cat.12057.jpg',\n",
              " 'cat.3514.jpg',\n",
              " 'cat.10909.jpg',\n",
              " 'cat.9777.jpg',\n",
              " 'cat.9587.jpg',\n",
              " 'cat.4904.jpg',\n",
              " 'cat.9973.jpg',\n",
              " 'cat.2570.jpg',\n",
              " 'cat.7905.jpg',\n",
              " 'cat.2780.jpg',\n",
              " 'cat.7432.jpg',\n",
              " 'cat.3161.jpg',\n",
              " 'cat.7891.jpg',\n",
              " 'cat.2491.jpg',\n",
              " 'cat.3892.jpg',\n",
              " 'cat.10440.jpg',\n",
              " 'cat.10843.jpg',\n",
              " 'cat.5229.jpg',\n",
              " 'cat.11746.jpg',\n",
              " 'cat.6958.jpg',\n",
              " 'cat.783.jpg',\n",
              " 'cat.683.jpg',\n",
              " 'cat.8614.jpg',\n",
              " 'cat.6082.jpg',\n",
              " 'cat.9011.jpg',\n",
              " 'cat.8213.jpg',\n",
              " 'cat.11332.jpg',\n",
              " 'cat.98.jpg',\n",
              " 'cat.4303.jpg',\n",
              " 'cat.229.jpg',\n",
              " 'cat.6646.jpg',\n",
              " 'cat.9168.jpg',\n",
              " 'cat.11576.jpg',\n",
              " 'cat.2999.jpg',\n",
              " 'cat.6006.jpg',\n",
              " 'cat.26.jpg',\n",
              " 'cat.7638.jpg',\n",
              " 'cat.7585.jpg',\n",
              " 'cat.12417.jpg',\n",
              " 'cat.2131.jpg',\n",
              " 'cat.8311.jpg',\n",
              " 'cat.2727.jpg',\n",
              " 'cat.2446.jpg',\n",
              " 'cat.2685.jpg',\n",
              " 'cat.8476.jpg',\n",
              " 'cat.6696.jpg',\n",
              " 'cat.12458.jpg',\n",
              " 'cat.412.jpg',\n",
              " 'cat.4316.jpg',\n",
              " 'cat.10757.jpg',\n",
              " 'cat.5775.jpg',\n",
              " 'cat.6224.jpg',\n",
              " 'cat.10554.jpg',\n",
              " 'cat.8231.jpg',\n",
              " 'cat.7277.jpg',\n",
              " 'cat.4366.jpg',\n",
              " 'cat.10020.jpg',\n",
              " 'cat.5219.jpg',\n",
              " 'cat.9990.jpg',\n",
              " 'cat.7831.jpg',\n",
              " 'cat.5360.jpg',\n",
              " 'cat.2099.jpg',\n",
              " 'cat.9883.jpg',\n",
              " 'cat.5152.jpg',\n",
              " 'cat.9721.jpg',\n",
              " 'cat.3495.jpg',\n",
              " 'cat.3527.jpg',\n",
              " 'cat.2978.jpg',\n",
              " 'cat.5352.jpg',\n",
              " 'cat.9188.jpg',\n",
              " 'cat.6860.jpg',\n",
              " 'cat.357.jpg',\n",
              " 'cat.2334.jpg',\n",
              " 'cat.8052.jpg',\n",
              " 'cat.1481.jpg',\n",
              " 'cat.5091.jpg',\n",
              " 'cat.12172.jpg',\n",
              " 'cat.1361.jpg',\n",
              " 'cat.11166.jpg',\n",
              " 'cat.5598.jpg',\n",
              " 'cat.3705.jpg',\n",
              " 'cat.4312.jpg',\n",
              " 'cat.6908.jpg',\n",
              " 'cat.9738.jpg',\n",
              " 'cat.5189.jpg',\n",
              " 'cat.3207.jpg',\n",
              " 'cat.165.jpg',\n",
              " 'cat.4419.jpg',\n",
              " 'cat.5825.jpg',\n",
              " 'cat.950.jpg',\n",
              " 'cat.4118.jpg',\n",
              " 'cat.4200.jpg',\n",
              " 'cat.9760.jpg',\n",
              " 'cat.1030.jpg',\n",
              " 'cat.2920.jpg',\n",
              " 'cat.9358.jpg',\n",
              " 'cat.7295.jpg',\n",
              " 'cat.6369.jpg',\n",
              " 'cat.10833.jpg',\n",
              " 'cat.8313.jpg',\n",
              " 'cat.10141.jpg',\n",
              " 'cat.10282.jpg',\n",
              " 'cat.6255.jpg',\n",
              " 'cat.2533.jpg',\n",
              " 'cat.4468.jpg',\n",
              " 'cat.12030.jpg',\n",
              " 'cat.5076.jpg',\n",
              " 'cat.7232.jpg',\n",
              " 'cat.11592.jpg',\n",
              " 'cat.5737.jpg',\n",
              " 'cat.8336.jpg',\n",
              " 'cat.11980.jpg',\n",
              " 'cat.10657.jpg',\n",
              " 'cat.3091.jpg',\n",
              " 'cat.2354.jpg',\n",
              " 'cat.4548.jpg',\n",
              " 'cat.1504.jpg',\n",
              " 'cat.11631.jpg',\n",
              " 'cat.10108.jpg',\n",
              " 'cat.10539.jpg',\n",
              " 'cat.1465.jpg',\n",
              " 'cat.9055.jpg',\n",
              " 'cat.7200.jpg',\n",
              " 'cat.6174.jpg',\n",
              " 'cat.3426.jpg',\n",
              " 'cat.6856.jpg',\n",
              " 'cat.90.jpg',\n",
              " 'cat.958.jpg',\n",
              " 'cat.4860.jpg',\n",
              " 'cat.855.jpg',\n",
              " 'cat.1033.jpg',\n",
              " 'cat.11144.jpg',\n",
              " 'cat.1786.jpg',\n",
              " 'cat.1781.jpg',\n",
              " 'cat.8821.jpg',\n",
              " 'cat.87.jpg',\n",
              " 'cat.9150.jpg',\n",
              " 'cat.3554.jpg',\n",
              " 'cat.7202.jpg',\n",
              " 'cat.440.jpg',\n",
              " 'cat.11298.jpg',\n",
              " 'cat.12006.jpg',\n",
              " 'cat.9010.jpg',\n",
              " 'cat.5031.jpg',\n",
              " 'cat.8629.jpg',\n",
              " 'cat.328.jpg',\n",
              " 'cat.2843.jpg',\n",
              " 'cat.11039.jpg',\n",
              " 'cat.6815.jpg',\n",
              " 'cat.9334.jpg',\n",
              " 'cat.4512.jpg',\n",
              " 'cat.3762.jpg',\n",
              " 'cat.10484.jpg',\n",
              " 'cat.4071.jpg',\n",
              " 'cat.2016.jpg',\n",
              " 'cat.1051.jpg',\n",
              " 'cat.9612.jpg',\n",
              " 'cat.6497.jpg',\n",
              " 'cat.10386.jpg',\n",
              " 'cat.7979.jpg',\n",
              " 'cat.4356.jpg',\n",
              " 'cat.9281.jpg',\n",
              " 'cat.7731.jpg',\n",
              " 'cat.9104.jpg',\n",
              " 'cat.12320.jpg',\n",
              " 'cat.993.jpg',\n",
              " 'cat.6715.jpg',\n",
              " 'cat.3517.jpg',\n",
              " 'cat.2264.jpg',\n",
              " 'cat.2969.jpg',\n",
              " 'cat.2381.jpg',\n",
              " 'cat.6377.jpg',\n",
              " 'cat.6738.jpg',\n",
              " 'cat.11084.jpg',\n",
              " 'cat.3702.jpg',\n",
              " 'cat.9169.jpg',\n",
              " 'cat.10251.jpg',\n",
              " 'cat.2725.jpg',\n",
              " 'cat.2740.jpg',\n",
              " 'cat.3284.jpg',\n",
              " 'cat.12285.jpg',\n",
              " 'cat.5065.jpg',\n",
              " 'cat.11723.jpg',\n",
              " 'cat.8590.jpg',\n",
              " 'cat.8509.jpg',\n",
              " 'cat.5311.jpg',\n",
              " 'cat.7029.jpg',\n",
              " 'cat.7538.jpg',\n",
              " 'cat.7266.jpg',\n",
              " 'cat.10591.jpg',\n",
              " 'cat.12190.jpg',\n",
              " 'cat.7661.jpg',\n",
              " 'cat.3368.jpg',\n",
              " 'cat.186.jpg',\n",
              " 'cat.12419.jpg',\n",
              " 'cat.3779.jpg',\n",
              " 'cat.11482.jpg',\n",
              " 'cat.11579.jpg',\n",
              " 'cat.12248.jpg',\n",
              " 'cat.7793.jpg',\n",
              " 'cat.9390.jpg',\n",
              " 'cat.2127.jpg',\n",
              " 'cat.9284.jpg',\n",
              " 'cat.8873.jpg',\n",
              " 'cat.10640.jpg',\n",
              " 'cat.5990.jpg',\n",
              " 'cat.12116.jpg',\n",
              " 'cat.12257.jpg',\n",
              " 'cat.10522.jpg',\n",
              " 'cat.11912.jpg',\n",
              " 'cat.3732.jpg',\n",
              " 'cat.4646.jpg',\n",
              " 'cat.1197.jpg',\n",
              " 'cat.8112.jpg',\n",
              " 'cat.6490.jpg',\n",
              " 'cat.2531.jpg',\n",
              " 'cat.6575.jpg',\n",
              " 'cat.7756.jpg',\n",
              " 'cat.3955.jpg',\n",
              " 'cat.5442.jpg',\n",
              " 'cat.1897.jpg',\n",
              " 'cat.2691.jpg',\n",
              " 'cat.11104.jpg',\n",
              " 'cat.17.jpg',\n",
              " 'cat.2832.jpg',\n",
              " 'cat.3115.jpg',\n",
              " 'cat.12423.jpg',\n",
              " 'cat.11347.jpg',\n",
              " 'cat.6457.jpg',\n",
              " 'cat.2510.jpg',\n",
              " 'cat.10467.jpg',\n",
              " 'cat.2704.jpg',\n",
              " 'cat.1198.jpg',\n",
              " 'cat.4495.jpg',\n",
              " 'cat.10458.jpg',\n",
              " 'cat.6321.jpg',\n",
              " 'cat.8955.jpg',\n",
              " 'cat.10183.jpg',\n",
              " 'cat.1925.jpg',\n",
              " 'cat.5893.jpg',\n",
              " 'cat.9191.jpg',\n",
              " 'cat.10448.jpg',\n",
              " 'cat.1985.jpg',\n",
              " 'cat.10167.jpg',\n",
              " 'cat.10918.jpg',\n",
              " 'cat.4752.jpg',\n",
              " 'cat.3168.jpg',\n",
              " 'cat.11729.jpg',\n",
              " 'cat.5793.jpg',\n",
              " 'cat.3768.jpg',\n",
              " 'cat.10077.jpg',\n",
              " 'cat.8850.jpg',\n",
              " 'cat.3818.jpg',\n",
              " 'cat.2046.jpg',\n",
              " 'cat.12492.jpg',\n",
              " 'cat.3003.jpg',\n",
              " 'cat.7937.jpg',\n",
              " 'cat.3984.jpg',\n",
              " 'cat.7992.jpg',\n",
              " 'cat.4975.jpg',\n",
              " 'cat.4739.jpg',\n",
              " 'cat.1217.jpg',\n",
              " 'cat.3640.jpg',\n",
              " 'cat.2693.jpg',\n",
              " 'cat.2169.jpg',\n",
              " 'cat.8362.jpg',\n",
              " 'cat.5394.jpg',\n",
              " 'cat.3846.jpg',\n",
              " 'cat.6865.jpg',\n",
              " 'cat.2211.jpg',\n",
              " 'cat.9648.jpg',\n",
              " 'cat.11157.jpg',\n",
              " 'cat.1743.jpg',\n",
              " 'cat.11158.jpg',\n",
              " 'cat.10986.jpg',\n",
              " 'cat.2496.jpg',\n",
              " 'cat.8255.jpg',\n",
              " 'cat.11093.jpg',\n",
              " 'cat.2804.jpg',\n",
              " 'cat.11933.jpg',\n",
              " 'cat.5801.jpg',\n",
              " 'cat.11752.jpg',\n",
              " 'cat.7425.jpg',\n",
              " 'cat.9861.jpg',\n",
              " 'cat.12441.jpg',\n",
              " 'cat.11493.jpg',\n",
              " 'cat.4146.jpg',\n",
              " 'cat.10423.jpg',\n",
              " 'cat.11417.jpg',\n",
              " 'cat.866.jpg',\n",
              " 'cat.12347.jpg',\n",
              " 'cat.8638.jpg',\n",
              " 'cat.10182.jpg',\n",
              " 'cat.2993.jpg',\n",
              " 'cat.2405.jpg',\n",
              " 'cat.7212.jpg',\n",
              " 'cat.6253.jpg',\n",
              " 'cat.5538.jpg',\n",
              " 'cat.9137.jpg',\n",
              " 'cat.6433.jpg',\n",
              " 'cat.10723.jpg',\n",
              " 'cat.5750.jpg',\n",
              " 'cat.9123.jpg',\n",
              " 'cat.2155.jpg',\n",
              " 'cat.9031.jpg',\n",
              " 'cat.4692.jpg',\n",
              " 'cat.7050.jpg',\n",
              " 'cat.2379.jpg',\n",
              " 'cat.6609.jpg',\n",
              " 'cat.11757.jpg',\n",
              " 'cat.2811.jpg',\n",
              " 'cat.10043.jpg',\n",
              " 'cat.10627.jpg',\n",
              " 'cat.6376.jpg',\n",
              " 'cat.9838.jpg',\n",
              " 'cat.378.jpg',\n",
              " 'cat.2327.jpg',\n",
              " 'cat.8228.jpg',\n",
              " 'cat.1584.jpg',\n",
              " 'cat.2151.jpg',\n",
              " 'cat.12218.jpg',\n",
              " 'cat.8776.jpg',\n",
              " 'cat.1425.jpg',\n",
              " 'cat.8812.jpg',\n",
              " 'cat.3297.jpg',\n",
              " 'cat.6534.jpg',\n",
              " 'cat.8701.jpg',\n",
              " 'cat.9407.jpg',\n",
              " 'cat.1232.jpg',\n",
              " 'cat.9307.jpg',\n",
              " 'cat.6606.jpg',\n",
              " 'cat.122.jpg',\n",
              " 'cat.10939.jpg',\n",
              " 'cat.9470.jpg',\n",
              " 'cat.7138.jpg',\n",
              " 'cat.2303.jpg',\n",
              " 'cat.10455.jpg',\n",
              " 'cat.1122.jpg',\n",
              " 'cat.7467.jpg',\n",
              " 'cat.3450.jpg',\n",
              " 'cat.126.jpg',\n",
              " 'cat.12250.jpg',\n",
              " 'cat.2929.jpg',\n",
              " 'cat.7516.jpg',\n",
              " 'cat.3289.jpg',\n",
              " 'cat.2408.jpg',\n",
              " 'cat.5922.jpg',\n",
              " 'cat.7429.jpg',\n",
              " 'cat.5346.jpg',\n",
              " 'cat.1212.jpg',\n",
              " 'cat.4475.jpg',\n",
              " 'cat.10713.jpg',\n",
              " 'cat.6495.jpg',\n",
              " 'cat.8488.jpg',\n",
              " 'cat.7621.jpg',\n",
              " 'cat.78.jpg',\n",
              " 'cat.1559.jpg',\n",
              " 'cat.391.jpg',\n",
              " 'cat.7221.jpg',\n",
              " 'cat.322.jpg',\n",
              " 'cat.11550.jpg',\n",
              " 'cat.5508.jpg',\n",
              " 'cat.4083.jpg',\n",
              " 'cat.6658.jpg',\n",
              " 'cat.5129.jpg',\n",
              " 'cat.4026.jpg',\n",
              " 'cat.4007.jpg',\n",
              " 'cat.9474.jpg',\n",
              " 'cat.1828.jpg',\n",
              " 'cat.6219.jpg',\n",
              " 'cat.7514.jpg',\n",
              " 'cat.5733.jpg',\n",
              " 'cat.9008.jpg',\n",
              " 'cat.11983.jpg',\n",
              " 'cat.6090.jpg',\n",
              " 'cat.11783.jpg',\n",
              " 'cat.4134.jpg',\n",
              " 'cat.9221.jpg',\n",
              " 'cat.1686.jpg',\n",
              " 'cat.12046.jpg',\n",
              " 'cat.3162.jpg',\n",
              " 'cat.10725.jpg',\n",
              " 'cat.9843.jpg',\n",
              " 'cat.11141.jpg',\n",
              " 'cat.3100.jpg',\n",
              " 'cat.1499.jpg',\n",
              " 'cat.6172.jpg',\n",
              " 'cat.11095.jpg',\n",
              " 'cat.7433.jpg',\n",
              " 'cat.637.jpg',\n",
              " 'cat.10688.jpg',\n",
              " 'cat.8346.jpg',\n",
              " 'cat.6789.jpg',\n",
              " 'cat.5551.jpg',\n",
              " 'cat.9146.jpg',\n",
              " 'cat.5868.jpg',\n",
              " 'cat.5704.jpg',\n",
              " 'cat.12406.jpg',\n",
              " 'cat.1934.jpg',\n",
              " 'cat.3202.jpg',\n",
              " 'cat.7369.jpg',\n",
              " 'cat.4.jpg',\n",
              " 'cat.7667.jpg',\n",
              " 'cat.10368.jpg',\n",
              " 'cat.11262.jpg',\n",
              " 'cat.1417.jpg',\n",
              " 'cat.8368.jpg',\n",
              " 'cat.4782.jpg',\n",
              " 'cat.7629.jpg',\n",
              " 'cat.1279.jpg',\n",
              " 'cat.6138.jpg',\n",
              " 'cat.11535.jpg',\n",
              " 'cat.5286.jpg',\n",
              " 'cat.5319.jpg',\n",
              " 'cat.8296.jpg',\n",
              " 'cat.1060.jpg',\n",
              " 'cat.2122.jpg',\n",
              " 'cat.11102.jpg',\n",
              " 'cat.10802.jpg',\n",
              " 'cat.10022.jpg',\n",
              " 'cat.2841.jpg',\n",
              " 'cat.5424.jpg',\n",
              " 'cat.7643.jpg',\n",
              " 'cat.12418.jpg',\n",
              " 'cat.2106.jpg',\n",
              " 'cat.2406.jpg',\n",
              " 'cat.1784.jpg',\n",
              " 'cat.8089.jpg',\n",
              " 'cat.1885.jpg',\n",
              " 'cat.7121.jpg',\n",
              " 'cat.5263.jpg',\n",
              " 'cat.7405.jpg',\n",
              " 'cat.6072.jpg',\n",
              " 'cat.2417.jpg',\n",
              " 'cat.143.jpg',\n",
              " 'cat.8884.jpg',\n",
              " 'cat.10049.jpg',\n",
              " 'cat.3608.jpg',\n",
              " 'cat.9153.jpg',\n",
              " 'cat.724.jpg',\n",
              " 'cat.1895.jpg',\n",
              " 'cat.5325.jpg',\n",
              " 'cat.8204.jpg',\n",
              " 'cat.7007.jpg',\n",
              " 'cat.607.jpg',\n",
              " 'cat.5812.jpg',\n",
              " 'cat.8715.jpg',\n",
              " 'cat.5957.jpg',\n",
              " 'cat.3053.jpg',\n",
              " 'cat.2359.jpg',\n",
              " 'cat.11906.jpg',\n",
              " 'cat.8936.jpg',\n",
              " 'cat.10347.jpg',\n",
              " 'cat.10752.jpg',\n",
              " 'cat.2784.jpg',\n",
              " 'cat.2314.jpg',\n",
              " 'cat.7260.jpg',\n",
              " 'cat.11103.jpg',\n",
              " 'cat.10580.jpg',\n",
              " 'cat.7408.jpg',\n",
              " 'cat.6134.jpg',\n",
              " 'cat.754.jpg',\n",
              " 'cat.1596.jpg',\n",
              " 'cat.10257.jpg',\n",
              " 'cat.8765.jpg',\n",
              " 'cat.12024.jpg',\n",
              " 'cat.11305.jpg',\n",
              " 'cat.5784.jpg',\n",
              " 'cat.5549.jpg',\n",
              " 'cat.6027.jpg',\n",
              " 'cat.6273.jpg',\n",
              " 'cat.481.jpg',\n",
              " 'cat.716.jpg',\n",
              " 'cat.11272.jpg',\n",
              " 'cat.8581.jpg',\n",
              " 'cat.3736.jpg',\n",
              " 'cat.6697.jpg',\n",
              " 'cat.4829.jpg',\n",
              " 'cat.479.jpg',\n",
              " 'cat.949.jpg',\n",
              " 'cat.5579.jpg',\n",
              " 'cat.3359.jpg',\n",
              " 'cat.4087.jpg',\n",
              " 'cat.7709.jpg',\n",
              " 'cat.4720.jpg',\n",
              " 'cat.1982.jpg',\n",
              " 'cat.7747.jpg',\n",
              " 'cat.5266.jpg',\n",
              " 'cat.6945.jpg',\n",
              " 'cat.1319.jpg',\n",
              " 'cat.8487.jpg',\n",
              " 'cat.11032.jpg',\n",
              " 'cat.2540.jpg',\n",
              " 'cat.12246.jpg',\n",
              " 'cat.4712.jpg',\n",
              " 'cat.243.jpg',\n",
              " 'cat.7235.jpg',\n",
              " 'cat.9505.jpg',\n",
              " 'cat.6811.jpg',\n",
              " 'cat.6123.jpg',\n",
              " 'cat.10794.jpg',\n",
              " 'cat.8641.jpg',\n",
              " 'cat.1638.jpg',\n",
              " 'cat.3537.jpg',\n",
              " 'cat.3389.jpg',\n",
              " 'cat.4921.jpg',\n",
              " 'cat.7744.jpg',\n",
              " 'cat.1124.jpg',\n",
              " 'cat.12331.jpg',\n",
              " 'cat.2113.jpg',\n",
              " 'cat.10601.jpg',\n",
              " 'cat.731.jpg',\n",
              " 'cat.11549.jpg',\n",
              " 'cat.11720.jpg',\n",
              " 'cat.8802.jpg',\n",
              " 'cat.6284.jpg',\n",
              " 'cat.6906.jpg',\n",
              " 'cat.7042.jpg',\n",
              " 'cat.8816.jpg',\n",
              " 'cat.5297.jpg',\n",
              " 'cat.10588.jpg',\n",
              " 'cat.3217.jpg',\n",
              " 'cat.11853.jpg',\n",
              " 'cat.10425.jpg',\n",
              " 'cat.5675.jpg',\n",
              " 'cat.6508.jpg',\n",
              " 'cat.770.jpg',\n",
              " 'cat.12318.jpg',\n",
              " 'cat.2748.jpg',\n",
              " 'cat.11137.jpg',\n",
              " 'cat.6896.jpg',\n",
              " 'cat.557.jpg',\n",
              " 'cat.6187.jpg',\n",
              " 'cat.5488.jpg',\n",
              " 'cat.7554.jpg',\n",
              " 'cat.3896.jpg',\n",
              " 'cat.5595.jpg',\n",
              " 'cat.9199.jpg',\n",
              " 'cat.8008.jpg',\n",
              " 'cat.5648.jpg',\n",
              " 'cat.4796.jpg',\n",
              " 'cat.7452.jpg',\n",
              " 'cat.9473.jpg',\n",
              " 'cat.10849.jpg',\n",
              " 'cat.11290.jpg',\n",
              " 'cat.6484.jpg',\n",
              " 'cat.11251.jpg',\n",
              " 'cat.2803.jpg',\n",
              " 'cat.10398.jpg',\n",
              " 'cat.7371.jpg',\n",
              " 'cat.11787.jpg',\n",
              " 'cat.798.jpg',\n",
              " 'cat.10868.jpg',\n",
              " 'cat.8902.jpg',\n",
              " 'cat.8365.jpg',\n",
              " 'cat.8461.jpg',\n",
              " 'cat.9058.jpg',\n",
              " 'cat.6897.jpg',\n",
              " 'cat.11306.jpg',\n",
              " 'cat.1311.jpg',\n",
              " 'cat.12111.jpg',\n",
              " 'cat.10857.jpg',\n",
              " 'cat.1292.jpg',\n",
              " 'cat.8656.jpg',\n",
              " 'cat.11004.jpg',\n",
              " 'cat.9850.jpg',\n",
              " 'cat.10058.jpg',\n",
              " 'cat.410.jpg',\n",
              " 'cat.1809.jpg',\n",
              " 'cat.2302.jpg',\n",
              " 'cat.3566.jpg',\n",
              " 'cat.12402.jpg',\n",
              " 'cat.5983.jpg',\n",
              " 'cat.9232.jpg',\n",
              " 'cat.4231.jpg',\n",
              " 'cat.10048.jpg',\n",
              " 'cat.5371.jpg',\n",
              " 'cat.10520.jpg',\n",
              " 'cat.2022.jpg',\n",
              " 'cat.6931.jpg',\n",
              " 'cat.3079.jpg',\n",
              " 'cat.11721.jpg',\n",
              " 'cat.109.jpg',\n",
              " 'cat.9537.jpg',\n",
              " 'cat.6397.jpg',\n",
              " 'cat.4259.jpg',\n",
              " 'cat.12466.jpg',\n",
              " 'cat.5979.jpg',\n",
              " 'cat.7996.jpg',\n",
              " 'cat.1353.jpg',\n",
              " 'cat.10105.jpg',\n",
              " 'cat.7179.jpg',\n",
              " 'cat.5207.jpg',\n",
              " 'cat.2753.jpg',\n",
              " 'cat.901.jpg',\n",
              " 'cat.1478.jpg',\n",
              " 'cat.7339.jpg',\n",
              " 'cat.10085.jpg',\n",
              " 'cat.225.jpg',\n",
              " 'cat.7338.jpg',\n",
              " 'cat.9129.jpg',\n",
              " 'cat.1223.jpg',\n",
              " 'cat.10343.jpg',\n",
              " 'cat.11994.jpg',\n",
              " 'cat.11584.jpg',\n",
              " 'cat.10922.jpg',\n",
              " 'cat.5794.jpg',\n",
              " 'cat.9314.jpg',\n",
              " 'cat.11296.jpg',\n",
              " 'cat.2680.jpg',\n",
              " 'cat.1697.jpg',\n",
              " 'cat.7131.jpg',\n",
              " 'cat.4466.jpg',\n",
              " 'cat.9252.jpg',\n",
              " 'cat.9807.jpg',\n",
              " 'cat.2177.jpg',\n",
              " 'cat.5437.jpg',\n",
              " 'cat.860.jpg',\n",
              " 'cat.5114.jpg',\n",
              " 'cat.785.jpg',\n",
              " 'cat.6633.jpg',\n",
              " 'cat.1765.jpg',\n",
              " 'cat.3406.jpg',\n",
              " 'cat.11156.jpg',\n",
              " 'cat.9394.jpg',\n",
              " 'cat.7887.jpg',\n",
              " 'cat.3200.jpg',\n",
              " 'cat.2073.jpg',\n",
              " 'cat.4044.jpg',\n",
              " 'cat.77.jpg',\n",
              " 'cat.12283.jpg',\n",
              " 'cat.180.jpg',\n",
              " 'cat.8166.jpg',\n",
              " 'cat.4005.jpg',\n",
              " 'cat.961.jpg',\n",
              " 'cat.3400.jpg',\n",
              " 'cat.3064.jpg',\n",
              " 'cat.12330.jpg',\n",
              " 'cat.1241.jpg',\n",
              " 'cat.7308.jpg',\n",
              " 'cat.9779.jpg',\n",
              " 'cat.398.jpg',\n",
              " 'cat.3454.jpg',\n",
              " 'cat.11769.jpg',\n",
              " 'cat.2826.jpg',\n",
              " 'cat.11226.jpg',\n",
              " 'cat.8620.jpg',\n",
              " 'cat.5041.jpg',\n",
              " 'cat.1725.jpg',\n",
              " 'cat.11587.jpg',\n",
              " 'cat.7410.jpg',\n",
              " 'cat.5005.jpg',\n",
              " 'cat.4049.jpg',\n",
              " 'cat.6919.jpg',\n",
              " 'cat.1058.jpg',\n",
              " 'cat.2346.jpg',\n",
              " 'cat.4605.jpg',\n",
              " 'cat.142.jpg',\n",
              " 'cat.12141.jpg',\n",
              " 'cat.2324.jpg',\n",
              " 'cat.1117.jpg',\n",
              " 'cat.630.jpg',\n",
              " 'cat.767.jpg',\n",
              " 'cat.2392.jpg',\n",
              " 'cat.6918.jpg',\n",
              " 'cat.7280.jpg',\n",
              " 'cat.2206.jpg',\n",
              " 'cat.9497.jpg',\n",
              " 'cat.9418.jpg',\n",
              " 'cat.2062.jpg',\n",
              " 'cat.5239.jpg',\n",
              " 'cat.10189.jpg',\n",
              " 'cat.10158.jpg',\n",
              " 'cat.10897.jpg',\n",
              " 'cat.6055.jpg',\n",
              " 'cat.11697.jpg',\n",
              " 'cat.2822.jpg',\n",
              " 'cat.7379.jpg',\n",
              " 'cat.2593.jpg',\n",
              " 'cat.5951.jpg',\n",
              " 'cat.7354.jpg',\n",
              " 'cat.6045.jpg',\n",
              " 'cat.3898.jpg',\n",
              " 'cat.1248.jpg',\n",
              " 'cat.6071.jpg',\n",
              " 'cat.303.jpg',\n",
              " 'cat.3255.jpg',\n",
              " 'cat.10695.jpg',\n",
              " 'cat.7824.jpg',\n",
              " 'cat.8002.jpg',\n",
              " 'cat.8164.jpg',\n",
              " 'cat.5814.jpg',\n",
              " 'cat.1680.jpg',\n",
              " 'cat.3211.jpg',\n",
              " 'cat.8271.jpg',\n",
              " 'cat.11469.jpg',\n",
              " 'cat.5721.jpg',\n",
              " 'cat.5353.jpg',\n",
              " 'cat.4875.jpg',\n",
              " 'cat.11408.jpg',\n",
              " 'cat.11041.jpg',\n",
              " 'cat.1996.jpg',\n",
              " 'cat.1325.jpg',\n",
              " 'cat.7970.jpg',\n",
              " 'cat.2741.jpg',\n",
              " 'cat.9744.jpg',\n",
              " 'cat.5789.jpg',\n",
              " 'cat.2416.jpg',\n",
              " 'cat.1477.jpg',\n",
              " 'cat.8624.jpg',\n",
              " 'cat.867.jpg',\n",
              " 'cat.1731.jpg',\n",
              " 'cat.5848.jpg',\n",
              " 'cat.11427.jpg',\n",
              " 'cat.2277.jpg',\n",
              " 'cat.8972.jpg',\n",
              " 'cat.12365.jpg',\n",
              " 'cat.2281.jpg',\n",
              " 'cat.38.jpg',\n",
              " 'cat.9572.jpg',\n",
              " 'cat.897.jpg',\n",
              " 'cat.5234.jpg',\n",
              " 'cat.11353.jpg',\n",
              " 'cat.7618.jpg',\n",
              " 'cat.2465.jpg',\n",
              " 'cat.6778.jpg',\n",
              " 'cat.550.jpg',\n",
              " 'cat.10302.jpg',\n",
              " 'cat.5028.jpg',\n",
              " 'cat.9776.jpg',\n",
              " 'cat.11263.jpg',\n",
              " 'cat.1555.jpg',\n",
              " 'cat.7602.jpg',\n",
              " 'cat.7299.jpg',\n",
              " 'cat.6669.jpg',\n",
              " 'cat.6533.jpg',\n",
              " 'cat.1317.jpg',\n",
              " 'cat.7077.jpg',\n",
              " 'cat.10017.jpg',\n",
              " 'cat.1351.jpg',\n",
              " 'cat.9605.jpg',\n",
              " 'cat.2904.jpg',\n",
              " 'cat.451.jpg',\n",
              " 'cat.3364.jpg',\n",
              " 'cat.11123.jpg',\n",
              " 'cat.8046.jpg',\n",
              " 'cat.1130.jpg',\n",
              " 'cat.3548.jpg',\n",
              " 'cat.3201.jpg',\n",
              " 'cat.11466.jpg',\n",
              " 'cat.7609.jpg',\n",
              " 'cat.12312.jpg',\n",
              " 'cat.575.jpg',\n",
              " 'cat.7469.jpg',\n",
              " 'cat.3692.jpg',\n",
              " 'cat.11175.jpg',\n",
              " 'cat.161.jpg',\n",
              " 'cat.8560.jpg',\n",
              " 'cat.5616.jpg',\n",
              " 'cat.3333.jpg',\n",
              " 'cat.10795.jpg',\n",
              " 'cat.7045.jpg',\n",
              " 'cat.12123.jpg',\n",
              " 'cat.1783.jpg',\n",
              " 'cat.7046.jpg',\n",
              " 'cat.4909.jpg',\n",
              " 'cat.1452.jpg',\n",
              " 'cat.1215.jpg',\n",
              " 'cat.10481.jpg',\n",
              " 'cat.456.jpg',\n",
              " 'cat.7868.jpg',\n",
              " 'cat.10331.jpg',\n",
              " 'cat.10530.jpg',\n",
              " 'cat.4185.jpg',\n",
              " 'cat.4458.jpg',\n",
              " 'cat.4128.jpg',\n",
              " 'cat.5361.jpg',\n",
              " 'cat.6750.jpg',\n",
              " 'cat.12076.jpg',\n",
              " 'cat.4552.jpg',\n",
              " 'cat.9923.jpg',\n",
              " 'cat.10453.jpg',\n",
              " 'cat.1086.jpg',\n",
              " 'cat.9208.jpg',\n",
              " 'cat.439.jpg',\n",
              " 'cat.450.jpg',\n",
              " 'cat.11671.jpg',\n",
              " 'cat.11890.jpg',\n",
              " 'cat.6233.jpg',\n",
              " 'cat.1375.jpg',\n",
              " 'cat.6616.jpg',\n",
              " 'cat.2241.jpg',\n",
              " 'cat.8871.jpg',\n",
              " 'cat.6645.jpg',\n",
              " 'cat.8003.jpg',\n",
              " 'cat.4438.jpg',\n",
              " 'cat.3522.jpg',\n",
              " 'cat.4177.jpg',\n",
              " 'cat.10030.jpg',\n",
              " 'cat.0.jpg',\n",
              " 'cat.2982.jpg',\n",
              " 'cat.9282.jpg',\n",
              " 'cat.3982.jpg',\n",
              " 'cat.5063.jpg',\n",
              " 'cat.8636.jpg',\n",
              " 'cat.4706.jpg',\n",
              " 'cat.966.jpg',\n",
              " 'cat.10142.jpg',\n",
              " 'cat.3214.jpg',\n",
              " 'cat.12119.jpg',\n",
              " 'cat.3555.jpg',\n",
              " 'cat.11309.jpg',\n",
              " 'cat.11194.jpg',\n",
              " 'cat.6816.jpg',\n",
              " 'cat.1492.jpg',\n",
              " 'cat.1483.jpg',\n",
              " 'cat.1166.jpg',\n",
              " 'cat.9218.jpg',\n",
              " 'cat.2778.jpg',\n",
              " 'cat.8808.jpg',\n",
              " 'cat.1323.jpg',\n",
              " 'cat.1757.jpg',\n",
              " 'cat.247.jpg',\n",
              " 'cat.3225.jpg',\n",
              " 'cat.2197.jpg',\n",
              " 'cat.5185.jpg',\n",
              " 'cat.1877.jpg',\n",
              " 'cat.1657.jpg',\n",
              " 'cat.6480.jpg',\n",
              " 'cat.889.jpg',\n",
              " 'cat.1825.jpg',\n",
              " 'cat.11154.jpg',\n",
              " 'cat.9849.jpg',\n",
              " 'cat.2773.jpg',\n",
              " 'cat.9007.jpg',\n",
              " 'cat.839.jpg',\n",
              " 'cat.9697.jpg',\n",
              " 'cat.1879.jpg',\n",
              " 'cat.11423.jpg',\n",
              " 'cat.5141.jpg',\n",
              " 'cat.792.jpg',\n",
              " 'cat.3422.jpg',\n",
              " 'cat.1558.jpg',\n",
              " 'cat.293.jpg',\n",
              " 'cat.70.jpg',\n",
              " 'cat.397.jpg',\n",
              " 'cat.3927.jpg',\n",
              " 'cat.3964.jpg',\n",
              " 'cat.1834.jpg',\n",
              " 'cat.2039.jpg',\n",
              " 'cat.3652.jpg',\n",
              " 'cat.4791.jpg',\n",
              " 'cat.10087.jpg',\n",
              " 'cat.10452.jpg',\n",
              " 'cat.2792.jpg',\n",
              " 'cat.5925.jpg',\n",
              " 'cat.11453.jpg',\n",
              " 'cat.1170.jpg',\n",
              " 'cat.1042.jpg',\n",
              " 'cat.3800.jpg',\n",
              " 'cat.4489.jpg',\n",
              " 'cat.367.jpg',\n",
              " 'cat.8925.jpg',\n",
              " 'cat.7782.jpg',\n",
              " 'cat.1771.jpg',\n",
              " 'cat.6553.jpg',\n",
              " 'cat.1878.jpg',\n",
              " 'cat.9908.jpg',\n",
              " 'cat.4560.jpg',\n",
              " 'cat.3695.jpg',\n",
              " 'cat.4618.jpg',\n",
              " 'cat.7378.jpg',\n",
              " 'cat.8315.jpg',\n",
              " 'cat.8540.jpg',\n",
              " 'cat.2810.jpg',\n",
              " 'cat.10204.jpg',\n",
              " 'cat.8947.jpg',\n",
              " 'cat.6570.jpg',\n",
              " 'cat.9486.jpg',\n",
              " 'cat.6246.jpg',\n",
              " 'cat.3904.jpg',\n",
              " 'cat.9595.jpg',\n",
              " 'cat.4380.jpg',\n",
              " 'cat.1294.jpg',\n",
              " 'cat.959.jpg',\n",
              " 'cat.7016.jpg',\n",
              " 'cat.9583.jpg',\n",
              " 'cat.2300.jpg',\n",
              " 'cat.5583.jpg',\n",
              " 'cat.2254.jpg',\n",
              " 'cat.2014.jpg',\n",
              " 'cat.5102.jpg',\n",
              " 'cat.5702.jpg',\n",
              " 'cat.5807.jpg',\n",
              " 'cat.8174.jpg',\n",
              " 'cat.584.jpg',\n",
              " 'cat.920.jpg',\n",
              " 'cat.2333.jpg',\n",
              " 'cat.2423.jpg',\n",
              " 'cat.5663.jpg',\n",
              " 'cat.2787.jpg',\n",
              " 'cat.8901.jpg',\n",
              " 'cat.6876.jpg',\n",
              " 'cat.10127.jpg',\n",
              " 'cat.543.jpg',\n",
              " 'cat.606.jpg',\n",
              " 'cat.11939.jpg',\n",
              " 'cat.2815.jpg',\n",
              " 'cat.3990.jpg',\n",
              " 'cat.6217.jpg',\n",
              " 'cat.4077.jpg',\n",
              " 'cat.2183.jpg',\n",
              " 'cat.9671.jpg',\n",
              " 'cat.11031.jpg',\n",
              " 'cat.3855.jpg',\n",
              " 'cat.1105.jpg',\n",
              " 'cat.3611.jpg',\n",
              " 'cat.7428.jpg',\n",
              " 'cat.11889.jpg',\n",
              " 'cat.11727.jpg',\n",
              " 'cat.1745.jpg',\n",
              " 'cat.2764.jpg',\n",
              " 'cat.9154.jpg',\n",
              " 'cat.7502.jpg',\n",
              " 'cat.11105.jpg',\n",
              " 'cat.7925.jpg',\n",
              " 'cat.5790.jpg',\n",
              " 'cat.9228.jpg',\n",
              " 'cat.10011.jpg',\n",
              " 'cat.4141.jpg',\n",
              " 'cat.7163.jpg',\n",
              " 'cat.6664.jpg',\n",
              " 'cat.7830.jpg',\n",
              " 'cat.10532.jpg',\n",
              " 'cat.5618.jpg',\n",
              " 'cat.5976.jpg',\n",
              " 'cat.6477.jpg',\n",
              " 'cat.6863.jpg',\n",
              " 'cat.5819.jpg',\n",
              " 'cat.10743.jpg',\n",
              " 'cat.624.jpg',\n",
              " 'cat.2138.jpg',\n",
              " 'cat.4156.jpg',\n",
              " 'cat.3013.jpg',\n",
              " 'cat.9128.jpg',\n",
              " 'cat.11824.jpg',\n",
              " 'cat.6182.jpg',\n",
              " 'cat.11036.jpg',\n",
              " 'cat.4359.jpg',\n",
              " 'cat.10942.jpg',\n",
              " 'cat.9924.jpg',\n",
              " 'cat.7025.jpg',\n",
              " 'cat.728.jpg',\n",
              " 'cat.1134.jpg',\n",
              " 'cat.1808.jpg',\n",
              " 'cat.6773.jpg',\n",
              " 'cat.9592.jpg',\n",
              " 'cat.7456.jpg',\n",
              " 'cat.2565.jpg',\n",
              " 'cat.10597.jpg',\n",
              " 'cat.4655.jpg',\n",
              " 'cat.11693.jpg',\n",
              " 'cat.8090.jpg',\n",
              " 'cat.3281.jpg',\n",
              " 'cat.6447.jpg',\n",
              " 'cat.8235.jpg',\n",
              " 'cat.484.jpg',\n",
              " 'cat.234.jpg',\n",
              " 'cat.1357.jpg',\n",
              " 'cat.8222.jpg',\n",
              " 'cat.1954.jpg',\n",
              " 'cat.4184.jpg',\n",
              " ...]"
            ]
          },
          "metadata": {},
          "execution_count": 13
        }
      ],
      "source": [
        "os.listdir(train_path+'cat')"
      ]
    },
    {
      "cell_type": "code",
      "execution_count": 14,
      "metadata": {
        "id": "1eyTqcrHSRU0",
        "colab": {
          "base_uri": "https://localhost:8080/"
        },
        "outputId": "a301d7ab-0016-4079-fe22-32f76b6dc27f"
      },
      "outputs": [
        {
          "output_type": "execute_result",
          "data": {
            "text/plain": [
              "['dog.11695.jpg',\n",
              " 'dog.10848.jpg',\n",
              " 'dog.12336.jpg',\n",
              " 'dog.12349.jpg',\n",
              " 'dog.10031.jpg',\n",
              " 'dog.2818.jpg',\n",
              " 'dog.12097.jpg',\n",
              " 'dog.1430.jpg',\n",
              " 'dog.12124.jpg',\n",
              " 'dog.2272.jpg',\n",
              " 'dog.1298.jpg',\n",
              " 'dog.1037.jpg',\n",
              " 'dog.11138.jpg',\n",
              " 'dog.10852.jpg',\n",
              " 'dog.10398.jpg',\n",
              " 'dog.1510.jpg',\n",
              " 'dog.11887.jpg',\n",
              " 'dog.10976.jpg',\n",
              " 'dog.1844.jpg',\n",
              " 'dog.10672.jpg',\n",
              " 'dog.12269.jpg',\n",
              " 'dog.2215.jpg',\n",
              " 'dog.11320.jpg',\n",
              " 'dog.11169.jpg',\n",
              " 'dog.1294.jpg',\n",
              " 'dog.297.jpg',\n",
              " 'dog.2667.jpg',\n",
              " 'dog.2887.jpg',\n",
              " 'dog.11077.jpg',\n",
              " 'dog.1709.jpg',\n",
              " 'dog.1073.jpg',\n",
              " 'dog.2268.jpg',\n",
              " 'dog.10721.jpg',\n",
              " 'dog.2335.jpg',\n",
              " 'dog.1945.jpg',\n",
              " 'dog.2044.jpg',\n",
              " 'dog.1369.jpg',\n",
              " 'dog.269.jpg',\n",
              " 'dog.11543.jpg',\n",
              " 'dog.1279.jpg',\n",
              " 'dog.1140.jpg',\n",
              " 'dog.181.jpg',\n",
              " 'dog.10192.jpg',\n",
              " 'dog.11739.jpg',\n",
              " 'dog.11402.jpg',\n",
              " 'dog.10868.jpg',\n",
              " 'dog.2752.jpg',\n",
              " 'dog.10412.jpg',\n",
              " 'dog.11434.jpg',\n",
              " 'dog.1243.jpg',\n",
              " 'dog.168.jpg',\n",
              " 'dog.2702.jpg',\n",
              " 'dog.1897.jpg',\n",
              " 'dog.10226.jpg',\n",
              " 'dog.11523.jpg',\n",
              " 'dog.11669.jpg',\n",
              " 'dog.10912.jpg',\n",
              " 'dog.10932.jpg',\n",
              " 'dog.2543.jpg',\n",
              " 'dog.2097.jpg',\n",
              " 'dog.2609.jpg',\n",
              " 'dog.11355.jpg',\n",
              " 'dog.267.jpg',\n",
              " 'dog.2002.jpg',\n",
              " 'dog.11919.jpg',\n",
              " 'dog.2679.jpg',\n",
              " 'dog.1069.jpg',\n",
              " 'dog.11622.jpg',\n",
              " 'dog.10022.jpg',\n",
              " 'dog.11466.jpg',\n",
              " 'dog.1851.jpg',\n",
              " 'dog.3046.jpg',\n",
              " 'dog.11197.jpg',\n",
              " 'dog.1517.jpg',\n",
              " 'dog.1937.jpg',\n",
              " 'dog.11137.jpg',\n",
              " 'dog.11505.jpg',\n",
              " 'dog.12046.jpg',\n",
              " 'dog.2806.jpg',\n",
              " 'dog.10352.jpg',\n",
              " 'dog.11349.jpg',\n",
              " 'dog.2370.jpg',\n",
              " 'dog.1251.jpg',\n",
              " 'dog.10390.jpg',\n",
              " '2523.jpg',\n",
              " 'dog.11878.jpg',\n",
              " 'dog.1362.jpg',\n",
              " 'dog.2798.jpg',\n",
              " 'dog.1483.jpg',\n",
              " 'dog.10145.jpg',\n",
              " 'dog.12456.jpg',\n",
              " 'dog.2653.jpg',\n",
              " 'dog.11727.jpg',\n",
              " 'dog.3032.jpg',\n",
              " 'dog.1860.jpg',\n",
              " 'dog.12231.jpg',\n",
              " 'dog.17.jpg',\n",
              " 'dog.24.jpg',\n",
              " 'dog.2596.jpg',\n",
              " 'dog.1304.jpg',\n",
              " 'dog.2968.jpg',\n",
              " 'dog.1166.jpg',\n",
              " 'dog.10416.jpg',\n",
              " '2598.jpg',\n",
              " 'dog.1378.jpg',\n",
              " 'dog.172.jpg',\n",
              " 'dog.11374.jpg',\n",
              " 'dog.11076.jpg',\n",
              " 'dog.1232.jpg',\n",
              " 'dog.11899.jpg',\n",
              " 'dog.1784.jpg',\n",
              " 'dog.10741.jpg',\n",
              " 'dog.1891.jpg',\n",
              " 'dog.1799.jpg',\n",
              " 'dog.11194.jpg',\n",
              " 'dog.10606.jpg',\n",
              " 'dog.167.jpg',\n",
              " 'dog.12356.jpg',\n",
              " 'dog.11619.jpg',\n",
              " 'dog.10.jpg',\n",
              " '2537.jpg',\n",
              " 'dog.1278.jpg',\n",
              " 'dog.1976.jpg',\n",
              " '2704.jpg',\n",
              " 'dog.10740.jpg',\n",
              " 'dog.10780.jpg',\n",
              " 'dog.2068.jpg',\n",
              " 'dog.11084.jpg',\n",
              " 'dog.10497.jpg',\n",
              " 'dog.2118.jpg',\n",
              " 'dog.10731.jpg',\n",
              " 'dog.2491.jpg',\n",
              " 'dog.11687.jpg',\n",
              " 'dog.10409.jpg',\n",
              " 'dog.11516.jpg',\n",
              " 'dog.277.jpg',\n",
              " 'dog.10897.jpg',\n",
              " 'dog.10747.jpg',\n",
              " 'dog.11829.jpg',\n",
              " 'dog.11129.jpg',\n",
              " 'dog.2993.jpg',\n",
              " 'dog.10500.jpg',\n",
              " 'dog.2358.jpg',\n",
              " 'dog.2570.jpg',\n",
              " 'dog.2045.jpg',\n",
              " 'dog.10429.jpg',\n",
              " 'dog.10502.jpg',\n",
              " '2692.jpg',\n",
              " 'dog.2530.jpg',\n",
              " 'dog.11306.jpg',\n",
              " 'dog.10838.jpg',\n",
              " 'dog.1631.jpg',\n",
              " 'dog.10761.jpg',\n",
              " 'dog.11674.jpg',\n",
              " 'dog.11170.jpg',\n",
              " 'dog.10575.jpg',\n",
              " 'dog.11902.jpg',\n",
              " 'dog.12032.jpg',\n",
              " 'dog.2214.jpg',\n",
              " 'dog.1436.jpg',\n",
              " 'dog.1803.jpg',\n",
              " 'dog.12084.jpg',\n",
              " 'dog.11290.jpg',\n",
              " 'dog.2825.jpg',\n",
              " 'dog.1018.jpg',\n",
              " '2507.jpg',\n",
              " 'dog.2046.jpg',\n",
              " 'dog.11045.jpg',\n",
              " 'dog.2955.jpg',\n",
              " 'dog.2765.jpg',\n",
              " 'dog.2477.jpg',\n",
              " 'dog.1395.jpg',\n",
              " 'dog.2198.jpg',\n",
              " 'dog.2541.jpg',\n",
              " '2716.jpg',\n",
              " 'dog.11870.jpg',\n",
              " 'dog.1249.jpg',\n",
              " 'dog.1409.jpg',\n",
              " '2697.jpg',\n",
              " 'dog.2909.jpg',\n",
              " 'dog.2738.jpg',\n",
              " 'dog.11234.jpg',\n",
              " 'dog.12283.jpg',\n",
              " 'dog.2900.jpg',\n",
              " 'dog.2915.jpg',\n",
              " 'dog.10458.jpg',\n",
              " 'dog.1250.jpg',\n",
              " 'dog.11393.jpg',\n",
              " 'dog.11037.jpg',\n",
              " 'dog.11449.jpg',\n",
              " 'dog.12196.jpg',\n",
              " 'dog.105.jpg',\n",
              " 'dog.11181.jpg',\n",
              " 'dog.11488.jpg',\n",
              " 'dog.11073.jpg',\n",
              " 'dog.2347.jpg',\n",
              " '2570.jpg',\n",
              " '2717.jpg',\n",
              " 'dog.2579.jpg',\n",
              " 'dog.2038.jpg',\n",
              " 'dog.1213.jpg',\n",
              " 'dog.10176.jpg',\n",
              " 'dog.12160.jpg',\n",
              " 'dog.10636.jpg',\n",
              " 'dog.2464.jpg',\n",
              " 'dog.11106.jpg',\n",
              " 'dog.1626.jpg',\n",
              " 'dog.12078.jpg',\n",
              " 'dog.10577.jpg',\n",
              " 'dog.11265.jpg',\n",
              " 'dog.10723.jpg',\n",
              " 'dog.1520.jpg',\n",
              " 'dog.10781.jpg',\n",
              " 'dog.2578.jpg',\n",
              " 'dog.11863.jpg',\n",
              " 'dog.118.jpg',\n",
              " 'dog.10809.jpg',\n",
              " 'dog.1657.jpg',\n",
              " 'dog.10518.jpg',\n",
              " 'dog.1075.jpg',\n",
              " 'dog.1392.jpg',\n",
              " 'dog.12381.jpg',\n",
              " 'dog.2724.jpg',\n",
              " 'dog.10796.jpg',\n",
              " 'dog.11346.jpg',\n",
              " 'dog.2281.jpg',\n",
              " 'dog.1854.jpg',\n",
              " 'dog.2539.jpg',\n",
              " '2744.jpg',\n",
              " 'dog.2442.jpg',\n",
              " 'dog.12202.jpg',\n",
              " 'dog.11654.jpg',\n",
              " 'dog.1267.jpg',\n",
              " 'dog.12265.jpg',\n",
              " 'dog.1086.jpg',\n",
              " 'dog.2747.jpg',\n",
              " 'dog.2028.jpg',\n",
              " 'dog.10283.jpg',\n",
              " 'dog.2852.jpg',\n",
              " 'dog.12017.jpg',\n",
              " 'dog.11813.jpg',\n",
              " 'dog.10873.jpg',\n",
              " 'dog.11111.jpg',\n",
              " 'dog.2934.jpg',\n",
              " 'dog.2896.jpg',\n",
              " 'dog.12406.jpg',\n",
              " 'dog.11264.jpg',\n",
              " 'dog.10564.jpg',\n",
              " 'dog.20.jpg',\n",
              " 'dog.1057.jpg',\n",
              " 'dog.3023.jpg',\n",
              " 'dog.2639.jpg',\n",
              " 'dog.2930.jpg',\n",
              " 'dog.10839.jpg',\n",
              " 'dog.3033.jpg',\n",
              " 'dog.11026.jpg',\n",
              " 'dog.1575.jpg',\n",
              " 'dog.11992.jpg',\n",
              " 'dog.2804.jpg',\n",
              " 'dog.12477.jpg',\n",
              " 'dog.10095.jpg',\n",
              " 'dog.2558.jpg',\n",
              " 'dog.10862.jpg',\n",
              " 'dog.1336.jpg',\n",
              " 'dog.10462.jpg',\n",
              " 'dog.2743.jpg',\n",
              " 'dog.10013.jpg',\n",
              " 'dog.287.jpg',\n",
              " 'dog.2704.jpg',\n",
              " '2470.jpg',\n",
              " 'dog.2600.jpg',\n",
              " 'dog.10280.jpg',\n",
              " 'dog.12451.jpg',\n",
              " 'dog.12001.jpg',\n",
              " 'dog.2007.jpg',\n",
              " 'dog.11463.jpg',\n",
              " 'dog.1254.jpg',\n",
              " 'dog.1217.jpg',\n",
              " 'dog.12140.jpg',\n",
              " 'dog.12346.jpg',\n",
              " 'dog.10733.jpg',\n",
              " 'dog.1841.jpg',\n",
              " 'dog.2084.jpg',\n",
              " 'dog.10728.jpg',\n",
              " '2743.jpg',\n",
              " 'dog.1623.jpg',\n",
              " 'dog.11873.jpg',\n",
              " 'dog.11088.jpg',\n",
              " 'dog.11329.jpg',\n",
              " 'dog.1135.jpg',\n",
              " 'dog.11254.jpg',\n",
              " 'dog.11493.jpg',\n",
              " 'dog.11704.jpg',\n",
              " 'dog.1351.jpg',\n",
              " 'dog.1855.jpg',\n",
              " 'dog.2940.jpg',\n",
              " 'dog.10573.jpg',\n",
              " 'dog.1256.jpg',\n",
              " 'dog.1666.jpg',\n",
              " 'dog.1949.jpg',\n",
              " 'dog.12122.jpg',\n",
              " 'dog.10891.jpg',\n",
              " 'dog.2313.jpg',\n",
              " 'dog.12166.jpg',\n",
              " 'dog.11535.jpg',\n",
              " 'dog.3064.jpg',\n",
              " 'dog.1218.jpg',\n",
              " 'dog.2865.jpg',\n",
              " 'dog.12068.jpg',\n",
              " 'dog.10778.jpg',\n",
              " 'dog.1297.jpg',\n",
              " 'dog.10727.jpg',\n",
              " 'dog.194.jpg',\n",
              " 'dog.10237.jpg',\n",
              " 'dog.12340.jpg',\n",
              " 'dog.11984.jpg',\n",
              " 'dog.11765.jpg',\n",
              " 'dog.2063.jpg',\n",
              " 'dog.11087.jpg',\n",
              " 'dog.2583.jpg',\n",
              " 'dog.1707.jpg',\n",
              " 'dog.12316.jpg',\n",
              " 'dog.1960.jpg',\n",
              " 'dog.2742.jpg',\n",
              " '2635.jpg',\n",
              " 'dog.11850.jpg',\n",
              " 'dog.1253.jpg',\n",
              " 'dog.10349.jpg',\n",
              " 'dog.11525.jpg',\n",
              " '2700.jpg',\n",
              " 'dog.11612.jpg',\n",
              " 'dog.10565.jpg',\n",
              " 'dog.2340.jpg',\n",
              " 'dog.2307.jpg',\n",
              " 'dog.1955.jpg',\n",
              " 'dog.12109.jpg',\n",
              " 'dog.1554.jpg',\n",
              " 'dog.2521.jpg',\n",
              " 'dog.1798.jpg',\n",
              " 'dog.11625.jpg',\n",
              " 'dog.2977.jpg',\n",
              " '2525.jpg',\n",
              " 'dog.2615.jpg',\n",
              " 'dog.11851.jpg',\n",
              " 'dog.10312.jpg',\n",
              " 'dog.2701.jpg',\n",
              " 'dog.1415.jpg',\n",
              " 'dog.157.jpg',\n",
              " 'dog.11969.jpg',\n",
              " 'dog.11161.jpg',\n",
              " 'dog.12162.jpg',\n",
              " 'dog.11812.jpg',\n",
              " 'dog.10554.jpg',\n",
              " '2641.jpg',\n",
              " 'dog.132.jpg',\n",
              " 'dog.10403.jpg',\n",
              " 'dog.1485.jpg',\n",
              " 'dog.2305.jpg',\n",
              " 'dog.10667.jpg',\n",
              " 'dog.1922.jpg',\n",
              " 'dog.2314.jpg',\n",
              " 'dog.1331.jpg',\n",
              " 'dog.2708.jpg',\n",
              " 'dog.12494.jpg',\n",
              " 'dog.2778.jpg',\n",
              " '2643.jpg',\n",
              " '2569.jpg',\n",
              " 'dog.10783.jpg',\n",
              " 'dog.12135.jpg',\n",
              " 'dog.11820.jpg',\n",
              " 'dog.11839.jpg',\n",
              " 'dog.1796.jpg',\n",
              " 'dog.10085.jpg',\n",
              " 'dog.2193.jpg',\n",
              " 'dog.11979.jpg',\n",
              " 'dog.10419.jpg',\n",
              " 'dog.10591.jpg',\n",
              " 'dog.2376.jpg',\n",
              " 'dog.1019.jpg',\n",
              " 'dog.10046.jpg',\n",
              " 'dog.10227.jpg',\n",
              " 'dog.2634.jpg',\n",
              " 'dog.11019.jpg',\n",
              " 'dog.1552.jpg',\n",
              " 'dog.1320.jpg',\n",
              " 'dog.1789.jpg',\n",
              " 'dog.2460.jpg',\n",
              " 'dog.11716.jpg',\n",
              " 'dog.12223.jpg',\n",
              " 'dog.1052.jpg',\n",
              " 'dog.12171.jpg',\n",
              " 'dog.11453.jpg',\n",
              " 'dog.12415.jpg',\n",
              " 'dog.2841.jpg',\n",
              " 'dog.12169.jpg',\n",
              " 'dog.12028.jpg',\n",
              " 'dog.1134.jpg',\n",
              " 'dog.1146.jpg',\n",
              " 'dog.10396.jpg',\n",
              " 'dog.11797.jpg',\n",
              " 'dog.10073.jpg',\n",
              " 'dog.2430.jpg',\n",
              " '2521.jpg',\n",
              " '2789.jpg',\n",
              " 'dog.2563.jpg',\n",
              " 'dog.10849.jpg',\n",
              " 'dog.11967.jpg',\n",
              " 'dog.11066.jpg',\n",
              " 'dog.1768.jpg',\n",
              " 'dog.1840.jpg',\n",
              " 'dog.100.jpg',\n",
              " 'dog.1753.jpg',\n",
              " 'dog.2237.jpg',\n",
              " 'dog.2189.jpg',\n",
              " 'dog.2160.jpg',\n",
              " '2724.jpg',\n",
              " 'dog.1110.jpg',\n",
              " 'dog.2240.jpg',\n",
              " 'dog.12117.jpg',\n",
              " 'dog.1233.jpg',\n",
              " 'dog.1049.jpg',\n",
              " 'dog.1908.jpg',\n",
              " 'dog.1026.jpg',\n",
              " 'dog.12423.jpg',\n",
              " 'dog.10079.jpg',\n",
              " 'dog.10256.jpg',\n",
              " 'dog.11818.jpg',\n",
              " 'dog.1397.jpg',\n",
              " 'dog.2936.jpg',\n",
              " 'dog.12038.jpg',\n",
              " 'dog.1619.jpg',\n",
              " 'dog.137.jpg',\n",
              " 'dog.10744.jpg',\n",
              " 'dog.1031.jpg',\n",
              " 'dog.12197.jpg',\n",
              " 'dog.11957.jpg',\n",
              " 'dog.1492.jpg',\n",
              " 'dog.12205.jpg',\n",
              " 'dog.10869.jpg',\n",
              " 'dog.1885.jpg',\n",
              " 'dog.12215.jpg',\n",
              " 'dog.1464.jpg',\n",
              " 'dog.11116.jpg',\n",
              " 'dog.10367.jpg',\n",
              " 'dog.1592.jpg',\n",
              " 'dog.2071.jpg',\n",
              " 'dog.11341.jpg',\n",
              " 'dog.10855.jpg',\n",
              " 'dog.11398.jpg',\n",
              " 'dog.2801.jpg',\n",
              " 'dog.2238.jpg',\n",
              " 'dog.1159.jpg',\n",
              " 'dog.2882.jpg',\n",
              " 'dog.10075.jpg',\n",
              " 'dog.1108.jpg',\n",
              " 'dog.11446.jpg',\n",
              " 'dog.2601.jpg',\n",
              " 'dog.11541.jpg',\n",
              " 'dog.2444.jpg',\n",
              " 'dog.2866.jpg',\n",
              " 'dog.10923.jpg',\n",
              " 'dog.1661.jpg',\n",
              " 'dog.2301.jpg',\n",
              " 'dog.11237.jpg',\n",
              " 'dog.11471.jpg',\n",
              " 'dog.12318.jpg',\n",
              " 'dog.11335.jpg',\n",
              " 'dog.11229.jpg',\n",
              " 'dog.11841.jpg',\n",
              " 'dog.130.jpg',\n",
              " 'dog.10702.jpg',\n",
              " 'dog.2285.jpg',\n",
              " 'dog.1210.jpg',\n",
              " '2546.jpg',\n",
              " 'dog.11078.jpg',\n",
              " 'dog.11321.jpg',\n",
              " '2629.jpg',\n",
              " 'dog.3015.jpg',\n",
              " 'dog.10988.jpg',\n",
              " 'dog.11062.jpg',\n",
              " 'dog.10351.jpg',\n",
              " 'dog.12484.jpg',\n",
              " 'dog.2389.jpg',\n",
              " 'dog.11139.jpg',\n",
              " 'dog.1695.jpg',\n",
              " 'dog.10719.jpg',\n",
              " 'dog.1673.jpg',\n",
              " 'dog.2500.jpg',\n",
              " 'dog.1471.jpg',\n",
              " '2555.jpg',\n",
              " 'dog.11245.jpg',\n",
              " 'dog.11527.jpg',\n",
              " 'dog.11891.jpg',\n",
              " 'dog.2434.jpg',\n",
              " 'dog.11162.jpg',\n",
              " 'dog.10476.jpg',\n",
              " 'dog.1512.jpg',\n",
              " 'dog.2449.jpg',\n",
              " 'dog.10608.jpg',\n",
              " 'dog.2418.jpg',\n",
              " 'dog.2242.jpg',\n",
              " 'dog.2199.jpg',\n",
              " 'dog.1078.jpg',\n",
              " 'dog.10815.jpg',\n",
              " 'dog.10272.jpg',\n",
              " 'dog.12258.jpg',\n",
              " 'dog.10393.jpg',\n",
              " 'dog.10221.jpg',\n",
              " 'dog.11409.jpg',\n",
              " 'dog.1775.jpg',\n",
              " 'dog.10938.jpg',\n",
              " 'dog.3019.jpg',\n",
              " 'dog.12278.jpg',\n",
              " 'dog.10872.jpg',\n",
              " 'dog.11059.jpg',\n",
              " 'dog.1356.jpg',\n",
              " 'dog.2637.jpg',\n",
              " 'dog.10103.jpg',\n",
              " 'dog.10295.jpg',\n",
              " 'dog.1005.jpg',\n",
              " '2748.jpg',\n",
              " 'dog.2085.jpg',\n",
              " 'dog.11753.jpg',\n",
              " 'dog.11590.jpg',\n",
              " 'dog.10594.jpg',\n",
              " 'dog.2577.jpg',\n",
              " 'dog.2397.jpg',\n",
              " 'dog.10423.jpg',\n",
              " 'dog.10590.jpg',\n",
              " 'dog.12488.jpg',\n",
              " 'dog.11246.jpg',\n",
              " 'dog.2416.jpg',\n",
              " 'dog.3111.jpg',\n",
              " 'dog.11150.jpg',\n",
              " '2612.jpg',\n",
              " 'dog.10452.jpg',\n",
              " 'dog.1742.jpg',\n",
              " 'dog.2712.jpg',\n",
              " 'dog.2356.jpg',\n",
              " 'dog.2929.jpg',\n",
              " 'dog.1388.jpg',\n",
              " 'dog.2723.jpg',\n",
              " 'dog.1299.jpg',\n",
              " 'dog.126.jpg',\n",
              " 'dog.11885.jpg',\n",
              " 'dog.11277.jpg',\n",
              " 'dog.1119.jpg',\n",
              " 'dog.11866.jpg',\n",
              " 'dog.11976.jpg',\n",
              " 'dog.11294.jpg',\n",
              " 'dog.12248.jpg',\n",
              " 'dog.10428.jpg',\n",
              " 'dog.11225.jpg',\n",
              " 'dog.1324.jpg',\n",
              " 'dog.1142.jpg',\n",
              " 'dog.10152.jpg',\n",
              " 'dog.1104.jpg',\n",
              " 'dog.11771.jpg',\n",
              " 'dog.140.jpg',\n",
              " 'dog.12115.jpg',\n",
              " 'dog.11816.jpg',\n",
              " 'dog.2475.jpg',\n",
              " 'dog.2584.jpg',\n",
              " 'dog.11049.jpg',\n",
              " 'dog.1478.jpg',\n",
              " 'dog.1643.jpg',\n",
              " 'dog.1532.jpg',\n",
              " 'dog.11973.jpg',\n",
              " 'dog.1282.jpg',\n",
              " 'dog.2396.jpg',\n",
              " 'dog.2399.jpg',\n",
              " 'dog.1909.jpg',\n",
              " 'dog.2590.jpg',\n",
              " 'dog.11464.jpg',\n",
              " 'dog.2803.jpg',\n",
              " 'dog.10859.jpg',\n",
              " 'dog.11093.jpg',\n",
              " 'dog.11624.jpg',\n",
              " 'dog.1183.jpg',\n",
              " 'dog.2619.jpg',\n",
              " 'dog.12430.jpg',\n",
              " 'dog.1067.jpg',\n",
              " 'dog.11382.jpg',\n",
              " 'dog.11342.jpg',\n",
              " 'dog.12157.jpg',\n",
              " 'dog.1533.jpg',\n",
              " 'dog.10757.jpg',\n",
              " 'dog.3001.jpg',\n",
              " 'dog.10662.jpg',\n",
              " 'dog.198.jpg',\n",
              " 'dog.12302.jpg',\n",
              " 'dog.11024.jpg',\n",
              " 'dog.2390.jpg',\n",
              " 'dog.10069.jpg',\n",
              " 'dog.11351.jpg',\n",
              " 'dog.11357.jpg',\n",
              " 'dog.11502.jpg',\n",
              " 'dog.10964.jpg',\n",
              " 'dog.2622.jpg',\n",
              " 'dog.2990.jpg',\n",
              " 'dog.10612.jpg',\n",
              " 'dog.11782.jpg',\n",
              " 'dog.10760.jpg',\n",
              " 'dog.10173.jpg',\n",
              " 'dog.10083.jpg',\n",
              " 'dog.2167.jpg',\n",
              " 'dog.12252.jpg',\n",
              " 'dog.2248.jpg',\n",
              " 'dog.10309.jpg',\n",
              " 'dog.10561.jpg',\n",
              " 'dog.2987.jpg',\n",
              " 'dog.11118.jpg',\n",
              " 'dog.2001.jpg',\n",
              " 'dog.10880.jpg',\n",
              " 'dog.1884.jpg',\n",
              " 'dog.2495.jpg',\n",
              " 'dog.11762.jpg',\n",
              " 'dog.3018.jpg',\n",
              " 'dog.12085.jpg',\n",
              " 'dog.1723.jpg',\n",
              " 'dog.2439.jpg',\n",
              " 'dog.1676.jpg',\n",
              " 'dog.1831.jpg',\n",
              " 'dog.10553.jpg',\n",
              " 'dog.2784.jpg',\n",
              " 'dog.11578.jpg',\n",
              " 'dog.2840.jpg',\n",
              " 'dog.10569.jpg',\n",
              " 'dog.11282.jpg',\n",
              " 'dog.1084.jpg',\n",
              " 'dog.2290.jpg',\n",
              " 'dog.2817.jpg',\n",
              " 'dog.1776.jpg',\n",
              " 'dog.1641.jpg',\n",
              " 'dog.188.jpg',\n",
              " 'dog.10181.jpg',\n",
              " 'dog.2287.jpg',\n",
              " 'dog.12220.jpg',\n",
              " 'dog.10141.jpg',\n",
              " 'dog.2158.jpg',\n",
              " 'dog.12311.jpg',\n",
              " 'dog.204.jpg',\n",
              " 'dog.1590.jpg',\n",
              " 'dog.10140.jpg',\n",
              " 'dog.1444.jpg',\n",
              " 'dog.1847.jpg',\n",
              " 'dog.2018.jpg',\n",
              " 'dog.2906.jpg',\n",
              " 'dog.11467.jpg',\n",
              " 'dog.1984.jpg',\n",
              " 'dog.2179.jpg',\n",
              " 'dog.11901.jpg',\n",
              " 'dog.10454.jpg',\n",
              " 'dog.11956.jpg',\n",
              " 'dog.11396.jpg',\n",
              " 'dog.1015.jpg',\n",
              " 'dog.2447.jpg',\n",
              " '2573.jpg',\n",
              " 'dog.10884.jpg',\n",
              " 'dog.12322.jpg',\n",
              " 'dog.12240.jpg',\n",
              " 'dog.1212.jpg',\n",
              " 'dog.133.jpg',\n",
              " 'dog.11553.jpg',\n",
              " 'dog.229.jpg',\n",
              " 'dog.1112.jpg',\n",
              " 'dog.11386.jpg',\n",
              " 'dog.11376.jpg',\n",
              " 'dog.10806.jpg',\n",
              " 'dog.1280.jpg',\n",
              " 'dog.11536.jpg',\n",
              " 'dog.12168.jpg',\n",
              " 'dog.11854.jpg',\n",
              " 'dog.214.jpg',\n",
              " 'dog.3028.jpg',\n",
              " 'dog.1738.jpg',\n",
              " 'dog.119.jpg',\n",
              " 'dog.12259.jpg',\n",
              " 'dog.11514.jpg',\n",
              " 'dog.1207.jpg',\n",
              " 'dog.276.jpg',\n",
              " 'dog.11927.jpg',\n",
              " 'dog.11151.jpg',\n",
              " 'dog.10739.jpg',\n",
              " 'dog.1814.jpg',\n",
              " 'dog.11593.jpg',\n",
              " 'dog.10200.jpg',\n",
              " 'dog.28.jpg',\n",
              " 'dog.1923.jpg',\n",
              " 'dog.10800.jpg',\n",
              " 'dog.10362.jpg',\n",
              " 'dog.1446.jpg',\n",
              " 'dog.11723.jpg',\n",
              " 'dog.2868.jpg',\n",
              " 'dog.1876.jpg',\n",
              " 'dog.12073.jpg',\n",
              " 'dog.10392.jpg',\n",
              " 'dog.11560.jpg',\n",
              " 'dog.2598.jpg',\n",
              " 'dog.1539.jpg',\n",
              " 'dog.2105.jpg',\n",
              " 'dog.2988.jpg',\n",
              " 'dog.10737.jpg',\n",
              " 'dog.1476.jpg',\n",
              " 'dog.12279.jpg',\n",
              " 'dog.1494.jpg',\n",
              " 'dog.1917.jpg',\n",
              " 'dog.293.jpg',\n",
              " 'dog.11673.jpg',\n",
              " 'dog.131.jpg',\n",
              " 'dog.12034.jpg',\n",
              " 'dog.12383.jpg',\n",
              " '2680.jpg',\n",
              " 'dog.10813.jpg',\n",
              " 'dog.12004.jpg',\n",
              " 'dog.1487.jpg',\n",
              " 'dog.2573.jpg',\n",
              " 'dog.12185.jpg',\n",
              " 'dog.10881.jpg',\n",
              " 'dog.10269.jpg',\n",
              " 'dog.12243.jpg',\n",
              " 'dog.11515.jpg',\n",
              " 'dog.184.jpg',\n",
              " 'dog.10065.jpg',\n",
              " 'dog.1226.jpg',\n",
              " 'dog.10792.jpg',\n",
              " 'dog.1245.jpg',\n",
              " 'dog.1399.jpg',\n",
              " 'dog.1518.jpg',\n",
              " 'dog.12164.jpg',\n",
              " '2722.jpg',\n",
              " 'dog.11709.jpg',\n",
              " 'dog.10821.jpg',\n",
              " 'dog.2618.jpg',\n",
              " 'dog.10987.jpg',\n",
              " 'dog.11097.jpg',\n",
              " 'dog.11838.jpg',\n",
              " 'dog.1560.jpg',\n",
              " 'dog.2483.jpg',\n",
              " 'dog.2074.jpg',\n",
              " 'dog.1722.jpg',\n",
              " 'dog.10508.jpg',\n",
              " 'dog.10387.jpg',\n",
              " '2491.jpg',\n",
              " 'dog.12498.jpg',\n",
              " 'dog.11760.jpg',\n",
              " 'dog.11511.jpg',\n",
              " 'dog.1045.jpg',\n",
              " 'dog.2729.jpg',\n",
              " 'dog.10461.jpg',\n",
              " 'dog.2284.jpg',\n",
              " 'dog.1010.jpg',\n",
              " 'dog.11865.jpg',\n",
              " 'dog.10111.jpg',\n",
              " 'dog.1022.jpg',\n",
              " 'dog.197.jpg',\n",
              " 'dog.2888.jpg',\n",
              " 'dog.2812.jpg',\n",
              " 'dog.1746.jpg',\n",
              " 'dog.1323.jpg',\n",
              " 'dog.10640.jpg',\n",
              " 'dog.11730.jpg',\n",
              " 'dog.10908.jpg',\n",
              " 'dog.11122.jpg',\n",
              " 'dog.23.jpg',\n",
              " 'dog.11859.jpg',\n",
              " 'dog.2414.jpg',\n",
              " 'dog.11786.jpg',\n",
              " 'dog.11711.jpg',\n",
              " 'dog.2576.jpg',\n",
              " 'dog.10730.jpg',\n",
              " 'dog.10751.jpg',\n",
              " 'dog.10473.jpg',\n",
              " 'dog.11855.jpg',\n",
              " 'dog.2164.jpg',\n",
              " 'dog.12468.jpg',\n",
              " 'dog.11842.jpg',\n",
              " 'dog.11482.jpg',\n",
              " 'dog.11143.jpg',\n",
              " 'dog.11991.jpg',\n",
              " 'dog.2847.jpg',\n",
              " 'dog.2572.jpg',\n",
              " '2614.jpg',\n",
              " 'dog.12026.jpg',\n",
              " 'dog.10959.jpg',\n",
              " 'dog.1818.jpg',\n",
              " 'dog.2795.jpg',\n",
              " 'dog.266.jpg',\n",
              " 'dog.10100.jpg',\n",
              " 'dog.1091.jpg',\n",
              " 'dog.10791.jpg',\n",
              " 'dog.1248.jpg',\n",
              " 'dog.2561.jpg',\n",
              " 'dog.10236.jpg',\n",
              " 'dog.12364.jpg',\n",
              " 'dog.11743.jpg',\n",
              " 'dog.2315.jpg',\n",
              " '2464.jpg',\n",
              " 'dog.12460.jpg',\n",
              " 'dog.10240.jpg',\n",
              " 'dog.11708.jpg',\n",
              " 'dog.300.jpg',\n",
              " 'dog.10342.jpg',\n",
              " 'dog.10402.jpg',\n",
              " 'dog.10909.jpg',\n",
              " 'dog.11276.jpg',\n",
              " 'dog.1259.jpg',\n",
              " 'dog.11188.jpg',\n",
              " 'dog.1396.jpg',\n",
              " 'dog.1857.jpg',\n",
              " 'dog.10697.jpg',\n",
              " 'dog.2681.jpg',\n",
              " 'dog.12332.jpg',\n",
              " 'dog.2991.jpg',\n",
              " 'dog.12323.jpg',\n",
              " 'dog.11332.jpg',\n",
              " 'dog.10975.jpg',\n",
              " 'dog.10516.jpg',\n",
              " 'dog.1830.jpg',\n",
              " 'dog.1040.jpg',\n",
              " 'dog.1205.jpg',\n",
              " 'dog.2816.jpg',\n",
              " 'dog.12187.jpg',\n",
              " 'dog.10593.jpg',\n",
              " 'dog.10918.jpg',\n",
              " 'dog.12375.jpg',\n",
              " 'dog.10201.jpg',\n",
              " 'dog.2898.jpg',\n",
              " 'dog.12114.jpg',\n",
              " 'dog.10353.jpg',\n",
              " 'dog.1934.jpg',\n",
              " 'dog.10126.jpg',\n",
              " 'dog.11479.jpg',\n",
              " 'dog.12263.jpg',\n",
              " 'dog.11983.jpg',\n",
              " 'dog.10279.jpg',\n",
              " 'dog.10365.jpg',\n",
              " 'dog.2188.jpg',\n",
              " 'dog.10905.jpg',\n",
              " 'dog.2703.jpg',\n",
              " 'dog.2659.jpg',\n",
              " 'dog.11877.jpg',\n",
              " 'dog.10578.jpg',\n",
              " 'dog.11196.jpg',\n",
              " 'dog.10928.jpg',\n",
              " 'dog.2627.jpg',\n",
              " 'dog.2669.jpg',\n",
              " 'dog.10545.jpg',\n",
              " 'dog.11959.jpg',\n",
              " 'dog.12296.jpg',\n",
              " 'dog.12241.jpg',\n",
              " 'dog.12066.jpg',\n",
              " 'dog.1335.jpg',\n",
              " 'dog.1652.jpg',\n",
              " 'dog.10378.jpg',\n",
              " '2544.jpg',\n",
              " 'dog.1604.jpg',\n",
              " 'dog.11783.jpg',\n",
              " 'dog.12064.jpg',\n",
              " 'dog.2177.jpg',\n",
              " 'dog.1337.jpg',\n",
              " 'dog.2148.jpg',\n",
              " 'dog.2400.jpg',\n",
              " 'dog.2081.jpg',\n",
              " 'dog.10603.jpg',\n",
              " 'dog.2300.jpg',\n",
              " 'dog.10356.jpg',\n",
              " 'dog.12165.jpg',\n",
              " '2792.jpg',\n",
              " 'dog.2809.jpg',\n",
              " 'dog.12459.jpg',\n",
              " 'dog.1089.jpg',\n",
              " 'dog.1431.jpg',\n",
              " 'dog.10808.jpg',\n",
              " 'dog.1783.jpg',\n",
              " 'dog.11435.jpg',\n",
              " 'dog.10541.jpg',\n",
              " 'dog.11806.jpg',\n",
              " 'dog.1710.jpg',\n",
              " 'dog.11098.jpg',\n",
              " 'dog.12211.jpg',\n",
              " 'dog.212.jpg',\n",
              " 'dog.11795.jpg',\n",
              " 'dog.10030.jpg',\n",
              " 'dog.11391.jpg',\n",
              " 'dog.10621.jpg',\n",
              " 'dog.2517.jpg',\n",
              " 'dog.2374.jpg',\n",
              " 'dog.1340.jpg',\n",
              " 'dog.10732.jpg',\n",
              " 'dog.10070.jpg',\n",
              " 'dog.2345.jpg',\n",
              " 'dog.11614.jpg',\n",
              " 'dog.1291.jpg',\n",
              " 'dog.12262.jpg',\n",
              " 'dog.10752.jpg',\n",
              " 'dog.3017.jpg',\n",
              " 'dog.1429.jpg',\n",
              " '2601.jpg',\n",
              " 'dog.11242.jpg',\n",
              " 'dog.2351.jpg',\n",
              " 'dog.158.jpg',\n",
              " 'dog.10098.jpg',\n",
              " 'dog.2080.jpg',\n",
              " 'dog.1406.jpg',\n",
              " 'dog.1737.jpg',\n",
              " 'dog.2367.jpg',\n",
              " 'dog.1734.jpg',\n",
              " 'dog.2450.jpg',\n",
              " 'dog.10422.jpg',\n",
              " 'dog.2221.jpg',\n",
              " 'dog.2520.jpg',\n",
              " 'dog.11837.jpg',\n",
              " 'dog.10663.jpg',\n",
              " 'dog.11550.jpg',\n",
              " 'dog.310.jpg',\n",
              " 'dog.1764.jpg',\n",
              " 'dog.1173.jpg',\n",
              " 'dog.2387.jpg',\n",
              " 'dog.3057.jpg',\n",
              " 'dog.2693.jpg',\n",
              " 'dog.12418.jpg',\n",
              " 'dog.10615.jpg',\n",
              " 'dog.1853.jpg',\n",
              " 'dog.12396.jpg',\n",
              " 'dog.12270.jpg',\n",
              " 'dog.2049.jpg',\n",
              " 'dog.1310.jpg',\n",
              " 'dog.1888.jpg',\n",
              " 'dog.2641.jpg',\n",
              " 'dog.2721.jpg',\n",
              " 'dog.2310.jpg',\n",
              " 'dog.2412.jpg',\n",
              " 'dog.3103.jpg',\n",
              " 'dog.2559.jpg',\n",
              " 'dog.1769.jpg',\n",
              " '2820.jpg',\n",
              " 'dog.11494.jpg',\n",
              " 'dog.12304.jpg',\n",
              " 'dog.1755.jpg',\n",
              " 'dog.10078.jpg',\n",
              " 'dog.11173.jpg',\n",
              " 'dog.2151.jpg',\n",
              " 'dog.11105.jpg',\n",
              " 'dog.11085.jpg',\n",
              " 'dog.2087.jpg',\n",
              " 'dog.10896.jpg',\n",
              " 'dog.11428.jpg',\n",
              " 'dog.11644.jpg',\n",
              " 'dog.11545.jpg',\n",
              " 'dog.2528.jpg',\n",
              " 'dog.3053.jpg',\n",
              " 'dog.12376.jpg',\n",
              " '2673.jpg',\n",
              " 'dog.311.jpg',\n",
              " 'dog.11913.jpg',\n",
              " 'dog.2869.jpg',\n",
              " 'dog.2624.jpg',\n",
              " 'dog.11303.jpg',\n",
              " 'dog.10694.jpg',\n",
              " 'dog.2175.jpg',\n",
              " 'dog.11459.jpg',\n",
              " 'dog.1846.jpg',\n",
              " 'dog.11638.jpg',\n",
              " 'dog.10086.jpg',\n",
              " 'dog.11617.jpg',\n",
              " 'dog.2246.jpg',\n",
              " 'dog.12466.jpg',\n",
              " 'dog.2972.jpg',\n",
              " '2474.jpg',\n",
              " 'dog.10992.jpg',\n",
              " 'dog.10999.jpg',\n",
              " 'dog.2946.jpg',\n",
              " 'dog.2115.jpg',\n",
              " 'dog.2958.jpg',\n",
              " 'dog.12081.jpg',\n",
              " 'dog.10010.jpg',\n",
              " 'dog.2719.jpg',\n",
              " 'dog.2058.jpg',\n",
              " 'dog.143.jpg',\n",
              " 'dog.2638.jpg',\n",
              " 'dog.12.jpg',\n",
              " 'dog.10734.jpg',\n",
              " 'dog.11621.jpg',\n",
              " 'dog.10110.jpg',\n",
              " 'dog.11136.jpg',\n",
              " 'dog.10482.jpg',\n",
              " 'dog.1808.jpg',\n",
              " 'dog.1928.jpg',\n",
              " 'dog.12365.jpg',\n",
              " 'dog.1081.jpg',\n",
              " 'dog.11172.jpg',\n",
              " 'dog.12101.jpg',\n",
              " 'dog.2142.jpg',\n",
              " 'dog.12287.jpg',\n",
              " 'dog.1377.jpg',\n",
              " 'dog.2705.jpg',\n",
              " 'dog.2009.jpg',\n",
              " 'dog.10955.jpg',\n",
              " '2628.jpg',\n",
              " ...]"
            ]
          },
          "metadata": {},
          "execution_count": 14
        }
      ],
      "source": [
        "os.listdir(train_path+'dog')"
      ]
    },
    {
      "cell_type": "code",
      "execution_count": 15,
      "metadata": {
        "id": "E_n7baIlSRU0",
        "colab": {
          "base_uri": "https://localhost:8080/"
        },
        "outputId": "d344c79b-74da-4116-8670-cde091a916d1"
      },
      "outputs": [
        {
          "output_type": "execute_result",
          "data": {
            "text/plain": [
              "(12500, 5026)"
            ]
          },
          "metadata": {},
          "execution_count": 15
        }
      ],
      "source": [
        "len(os.listdir(train_path+'cat')), len(os.listdir(train_path+'dog'))"
      ]
    },
    {
      "cell_type": "markdown",
      "metadata": {
        "id": "ZFgpDr_5GTal"
      },
      "source": [
        "**Let's take an example images from both train-cat and train-dog folders to observe process** "
      ]
    },
    {
      "cell_type": "code",
      "execution_count": 16,
      "metadata": {
        "id": "1cwMYh2jSRU0",
        "colab": {
          "base_uri": "https://localhost:8080/"
        },
        "outputId": "32dacf91-0c6b-48ae-fd7d-fd868fddb7f4"
      },
      "outputs": [
        {
          "output_type": "stream",
          "name": "stdout",
          "text": [
            "There are 3 directories and 0 images in '/content/data'.\n",
            "There are 2 directories and 0 images in '/content/data/validation'.\n",
            "There are 0 directories and 1071 images in '/content/data/validation/dog'.\n",
            "There are 0 directories and 1219 images in '/content/data/validation/cat'.\n",
            "There are 0 directories and 6897 images in '/content/data/test'.\n",
            "There are 2 directories and 0 images in '/content/data/train'.\n",
            "There are 0 directories and 5026 images in '/content/data/train/dog'.\n",
            "There are 0 directories and 12500 images in '/content/data/train/cat'.\n"
          ]
        }
      ],
      "source": [
        "for dirpath, dirnames, filenames in os.walk(my_data_dir):\n",
        "  print(f\"There are {len(dirnames)} directories and {len(filenames)} images in '{dirpath}'.\")"
      ]
    },
    {
      "cell_type": "code",
      "execution_count": 17,
      "metadata": {
        "id": "fuzjE7RISRU0",
        "colab": {
          "base_uri": "https://localhost:8080/"
        },
        "outputId": "bfdf4ef8-210d-45ba-fe67-18f35556e6fb"
      },
      "outputs": [
        {
          "output_type": "execute_result",
          "data": {
            "text/plain": [
              "['cat.9560.jpg',\n",
              " 'cat.10959.jpg',\n",
              " 'cat.2282.jpg',\n",
              " 'cat.560.jpg',\n",
              " 'cat.4056.jpg',\n",
              " 'cat.931.jpg',\n",
              " 'cat.6286.jpg',\n",
              " 'cat.3424.jpg',\n",
              " 'cat.3004.jpg',\n",
              " 'cat.2751.jpg',\n",
              " 'cat.4085.jpg']"
            ]
          },
          "metadata": {},
          "execution_count": 17
        }
      ],
      "source": [
        "os.listdir(train_path+'cat')[:11]"
      ]
    },
    {
      "cell_type": "code",
      "source": [
        "os.listdir(train_path+'cat')[5]"
      ],
      "metadata": {
        "colab": {
          "base_uri": "https://localhost:8080/",
          "height": 35
        },
        "id": "X65OKf5QZhXj",
        "outputId": "ad4933ba-a64e-4368-bbb9-48415396f001"
      },
      "execution_count": 18,
      "outputs": [
        {
          "output_type": "execute_result",
          "data": {
            "text/plain": [
              "'cat.931.jpg'"
            ],
            "application/vnd.google.colaboratory.intrinsic+json": {
              "type": "string"
            }
          },
          "metadata": {},
          "execution_count": 18
        }
      ]
    },
    {
      "cell_type": "code",
      "source": [
        "para_cell_pathc = train_path+'cat/'+'/cat.931.jpg'"
      ],
      "metadata": {
        "id": "7qFPJz7eZqDB"
      },
      "execution_count": 19,
      "outputs": []
    },
    {
      "cell_type": "code",
      "source": [
        "para_cell_pathc"
      ],
      "metadata": {
        "colab": {
          "base_uri": "https://localhost:8080/",
          "height": 35
        },
        "id": "CT3pcs-2aGqN",
        "outputId": "b252ca30-52c0-40a3-bf79-d7331f159175"
      },
      "execution_count": 20,
      "outputs": [
        {
          "output_type": "execute_result",
          "data": {
            "text/plain": [
              "'/content/data/train/cat//cat.931.jpg'"
            ],
            "application/vnd.google.colaboratory.intrinsic+json": {
              "type": "string"
            }
          },
          "metadata": {},
          "execution_count": 20
        }
      ]
    },
    {
      "cell_type": "code",
      "source": [
        "catt=imread(para_cell_pathc)"
      ],
      "metadata": {
        "id": "t-nAyzmoaT_Z"
      },
      "execution_count": 21,
      "outputs": []
    },
    {
      "cell_type": "code",
      "source": [
        "para_cell= imread(para_cell_pathc)"
      ],
      "metadata": {
        "id": "agdKw3Nga55m"
      },
      "execution_count": 22,
      "outputs": []
    },
    {
      "cell_type": "code",
      "execution_count": 23,
      "metadata": {
        "id": "0rj5B8IpSRU0",
        "colab": {
          "base_uri": "https://localhost:8080/"
        },
        "outputId": "ddaf869b-7b4f-44de-fe03-819d00ed6ac0"
      },
      "outputs": [
        {
          "output_type": "execute_result",
          "data": {
            "text/plain": [
              "['dog.11695.jpg',\n",
              " 'dog.10848.jpg',\n",
              " 'dog.12336.jpg',\n",
              " 'dog.12349.jpg',\n",
              " 'dog.10031.jpg',\n",
              " 'dog.2818.jpg',\n",
              " 'dog.12097.jpg',\n",
              " 'dog.1430.jpg',\n",
              " 'dog.12124.jpg',\n",
              " 'dog.2272.jpg',\n",
              " 'dog.1298.jpg']"
            ]
          },
          "metadata": {},
          "execution_count": 23
        }
      ],
      "source": [
        "os.listdir(train_path+'dog')[:11]"
      ]
    },
    {
      "cell_type": "code",
      "execution_count": 24,
      "metadata": {
        "id": "P9yT1ujSSRU0",
        "colab": {
          "base_uri": "https://localhost:8080/",
          "height": 35
        },
        "outputId": "120bda47-89fa-4d80-96f9-68369c9281e9"
      },
      "outputs": [
        {
          "output_type": "execute_result",
          "data": {
            "text/plain": [
              "'dog.2818.jpg'"
            ],
            "application/vnd.google.colaboratory.intrinsic+json": {
              "type": "string"
            }
          },
          "metadata": {},
          "execution_count": 24
        }
      ],
      "source": [
        "os.listdir(train_path+'dog')[5]"
      ]
    },
    {
      "cell_type": "code",
      "execution_count": 25,
      "metadata": {
        "id": "pCBlcCaeSRU0"
      },
      "outputs": [],
      "source": [
        "para_cell_pathd = train_path+'dog/'+'/dog.2818.jpg'"
      ]
    },
    {
      "cell_type": "code",
      "execution_count": 26,
      "metadata": {
        "id": "-dhHnpPaSRU0",
        "colab": {
          "base_uri": "https://localhost:8080/",
          "height": 35
        },
        "outputId": "7b6845a7-0bd5-4e3d-85d7-8fcc1b69e909"
      },
      "outputs": [
        {
          "output_type": "execute_result",
          "data": {
            "text/plain": [
              "'/content/data/train/dog//dog.2818.jpg'"
            ],
            "application/vnd.google.colaboratory.intrinsic+json": {
              "type": "string"
            }
          },
          "metadata": {},
          "execution_count": 26
        }
      ],
      "source": [
        "para_cell_pathd"
      ]
    },
    {
      "cell_type": "code",
      "execution_count": 27,
      "metadata": {
        "id": "f8x8qztcSRU0"
      },
      "outputs": [],
      "source": [
        "dogg=imread(para_cell_pathd)"
      ]
    },
    {
      "cell_type": "markdown",
      "metadata": {
        "id": "DY_IpdOLGTao"
      },
      "source": [
        "# Data Preprocessing"
      ]
    },
    {
      "cell_type": "markdown",
      "metadata": {
        "id": "9OHj01mvGTao"
      },
      "source": [
        "## Defining Input Shape"
      ]
    },
    {
      "cell_type": "code",
      "source": [
        "para_cell.shape"
      ],
      "metadata": {
        "colab": {
          "base_uri": "https://localhost:8080/"
        },
        "id": "LazraCp-HP5f",
        "outputId": "3f6cf6c7-1d5c-4227-e635-f200a627bad1"
      },
      "execution_count": 28,
      "outputs": [
        {
          "output_type": "execute_result",
          "data": {
            "text/plain": [
              "(499, 306, 3)"
            ]
          },
          "metadata": {},
          "execution_count": 28
        }
      ]
    },
    {
      "cell_type": "code",
      "source": [
        "catt.shape"
      ],
      "metadata": {
        "colab": {
          "base_uri": "https://localhost:8080/"
        },
        "id": "DbL5Ir44WbZT",
        "outputId": "eb5af170-ac72-4fba-ffd9-2f0c6f2b85c3"
      },
      "execution_count": 29,
      "outputs": [
        {
          "output_type": "execute_result",
          "data": {
            "text/plain": [
              "(499, 306, 3)"
            ]
          },
          "metadata": {},
          "execution_count": 29
        }
      ]
    },
    {
      "cell_type": "code",
      "source": [
        "dogg.shape \n"
      ],
      "metadata": {
        "colab": {
          "base_uri": "https://localhost:8080/"
        },
        "id": "zlyD4uCAJX9J",
        "outputId": "5092cce0-3614-48f3-e7d6-e42b7f780550"
      },
      "execution_count": 30,
      "outputs": [
        {
          "output_type": "execute_result",
          "data": {
            "text/plain": [
              "(316, 311, 3)"
            ]
          },
          "metadata": {},
          "execution_count": 30
        }
      ]
    },
    {
      "cell_type": "markdown",
      "metadata": {
        "id": "h1jQAQIaGTap"
      },
      "source": [
        "**Let's decide on the final dimension of these images.**"
      ]
    },
    {
      "cell_type": "code",
      "execution_count": 31,
      "metadata": {
        "id": "Nb6d9LS4SRU1"
      },
      "outputs": [],
      "source": [
        "# View a random image\n",
        "import random\n",
        "\n",
        "def view_random_image(target_dir, target_class):\n",
        "  # Setup target directory (we'll view images from here)\n",
        "  target_folder = target_dir+target_class\n",
        "\n",
        "  # Get a random image path\n",
        "  random_image = random.sample(os.listdir(target_folder), 1)\n",
        "\n",
        "  # Read in the image and plot it using matplotlib\n",
        "  img = imread(target_folder + \"/\" + random_image[0])\n",
        "  plt.imshow(img)\n",
        "  plt.title(target_class)\n",
        "  plt.axis(\"off\");\n",
        "\n",
        "  print(f\"Image shape: {img.shape}\") # show the shape of the image\n",
        "\n",
        "  return img"
      ]
    },
    {
      "cell_type": "code",
      "execution_count": 32,
      "metadata": {
        "id": "A2cCh7xISRU1",
        "colab": {
          "base_uri": "https://localhost:8080/",
          "height": 271
        },
        "outputId": "4d539f2e-0109-4679-b24a-99f57eaaf071"
      },
      "outputs": [
        {
          "output_type": "stream",
          "name": "stdout",
          "text": [
            "Image shape: (309, 500, 3)\n"
          ]
        },
        {
          "output_type": "display_data",
          "data": {
            "text/plain": [
              "<Figure size 432x288 with 1 Axes>"
            ],
            "image/png": "[encoded data removed]"
          },
          "metadata": {
            "needs_background": "light"
          }
        }
      ],
      "source": [
        "img = view_random_image(target_dir=train_path,\n",
        "                        target_class=\"cat\")"
      ]
    },
    {
      "cell_type": "code",
      "execution_count": 33,
      "metadata": {
        "id": "GKLy7VrYSRU1",
        "colab": {
          "base_uri": "https://localhost:8080/",
          "height": 281
        },
        "outputId": "a71cfff3-1cdf-48c8-df27-b5a73b549488"
      },
      "outputs": [
        {
          "output_type": "stream",
          "name": "stdout",
          "text": [
            "Image shape: (375, 499, 3)\n"
          ]
        },
        {
          "output_type": "display_data",
          "data": {
            "text/plain": [
              "<Figure size 432x288 with 1 Axes>"
            ],
            "image/png": "[encoded data removed]"
          },
          "metadata": {
            "needs_background": "light"
          }
        }
      ],
      "source": [
        "img = view_random_image(target_dir=train_path,\n",
        "                        target_class=\"dog\")"
      ]
    },
    {
      "cell_type": "code",
      "execution_count": 34,
      "metadata": {
        "id": "sYXr3HTHSRU1",
        "colab": {
          "base_uri": "https://localhost:8080/",
          "height": 281
        },
        "outputId": "d8e4fcdc-2aa0-4e2c-dc2f-097eba6914db"
      },
      "outputs": [
        {
          "output_type": "stream",
          "name": "stdout",
          "text": [
            "Image shape: (375, 499, 3)\n"
          ]
        },
        {
          "output_type": "display_data",
          "data": {
            "text/plain": [
              "<Figure size 432x288 with 1 Axes>"
            ],
            "image/png": "[encoded data removed]"
          },
          "metadata": {
            "needs_background": "light"
          }
        }
      ],
      "source": [
        "import random\n",
        "img = view_random_image(target_dir=train_path,\n",
        "                        target_class=random.choice(class_names))"
      ]
    },
    {
      "cell_type": "code",
      "execution_count": 34,
      "metadata": {
        "id": "9o3LxSOJSRU1"
      },
      "outputs": [],
      "source": [
        ""
      ]
    },
    {
      "cell_type": "code",
      "execution_count": 35,
      "metadata": {
        "id": "7SOmhDG7SRU1"
      },
      "outputs": [],
      "source": [
        "x = [imread(train_path+'cat/'+image).shape[0] for image in os.listdir(train_path+'cat')]\n",
        "y = [imread(train_path+'cat/'+image).shape[1] for image in os.listdir(train_path+'cat')]"
      ]
    },
    {
      "cell_type": "code",
      "execution_count": 36,
      "metadata": {
        "id": "BbBz1XT5SRU1",
        "colab": {
          "base_uri": "https://localhost:8080/"
        },
        "outputId": "41e86b62-4456-46d9-f0d6-8bdaf6e80125"
      },
      "outputs": [
        {
          "output_type": "execute_result",
          "data": {
            "text/plain": [
              "[375, 335, 456, 374, 375]"
            ]
          },
          "metadata": {},
          "execution_count": 36
        }
      ],
      "source": [
        "x[:5]"
      ]
    },
    {
      "cell_type": "code",
      "source": [
        "sns.scatterplot(x,y);"
      ],
      "metadata": {
        "colab": {
          "base_uri": "https://localhost:8080/",
          "height": 320
        },
        "id": "wxG2xoHmI36o",
        "outputId": "68c59daa-b138-4bc0-fcf9-54c79496e375"
      },
      "execution_count": 37,
      "outputs": [
        {
          "output_type": "stream",
          "name": "stderr",
          "text": [
            "/usr/local/lib/python3.7/dist-packages/seaborn/_decorators.py:43: FutureWarning: Pass the following variables as keyword args: x, y. From version 0.12, the only valid positional argument will be `data`, and passing other arguments without an explicit keyword will result in an error or misinterpretation.\n",
            "  FutureWarning\n"
          ]
        },
        {
          "output_type": "display_data",
          "data": {
            "text/plain": [
              "<Figure size 432x288 with 1 Axes>"
            ],
            "image/png": "[encoded data removed]"
          },
          "metadata": {
            "needs_background": "light"
          }
        }
      ]
    },
    {
      "cell_type": "markdown",
      "metadata": {
        "id": "khJGGhFYGTar"
      },
      "source": [
        "## Scalling"
      ]
    },
    {
      "cell_type": "markdown",
      "metadata": {
        "id": "E7Q2YN1vGTar"
      },
      "source": [
        "**Let's check the images if they are needed to be scaled or not**"
      ]
    },
    {
      "cell_type": "code",
      "execution_count": 38,
      "metadata": {
        "id": "RJeRyIlVSRU1",
        "colab": {
          "base_uri": "https://localhost:8080/"
        },
        "outputId": "abc2e3a7-930b-4891-edd9-afd832cddec1"
      },
      "outputs": [
        {
          "output_type": "execute_result",
          "data": {
            "text/plain": [
              "(356.46712, 374.0)"
            ]
          },
          "metadata": {},
          "execution_count": 38
        }
      ],
      "source": [
        "np.mean(x), np.median(x)"
      ]
    },
    {
      "cell_type": "code",
      "execution_count": 39,
      "metadata": {
        "id": "t5Gc_WtzSRU1",
        "colab": {
          "base_uri": "https://localhost:8080/"
        },
        "outputId": "2260c259-31b2-41f9-d039-306910f80256"
      },
      "outputs": [
        {
          "output_type": "execute_result",
          "data": {
            "text/plain": [
              "(410.52264, 470.0)"
            ]
          },
          "metadata": {},
          "execution_count": 39
        }
      ],
      "source": [
        "np.mean(y), np.median(y)"
      ]
    },
    {
      "cell_type": "code",
      "execution_count": 40,
      "metadata": {
        "id": "GaeL6QU7SRU1"
      },
      "outputs": [],
      "source": [
        "image_shape = (300,300,3) # burayi bir dusun "
      ]
    },
    {
      "cell_type": "code",
      "source": [
        "catt.max()"
      ],
      "metadata": {
        "colab": {
          "base_uri": "https://localhost:8080/"
        },
        "id": "NeUO4nm4XmOi",
        "outputId": "02ea39c7-4537-4d37-fee8-630d934771d4"
      },
      "execution_count": 41,
      "outputs": [
        {
          "output_type": "execute_result",
          "data": {
            "text/plain": [
              "255"
            ]
          },
          "metadata": {},
          "execution_count": 41
        }
      ]
    },
    {
      "cell_type": "code",
      "source": [
        "dogg.max()"
      ],
      "metadata": {
        "colab": {
          "base_uri": "https://localhost:8080/"
        },
        "id": "3m9WSMUGJRJc",
        "outputId": "dc10214a-cbeb-4931-aeab-d9daa18796f9"
      },
      "execution_count": 42,
      "outputs": [
        {
          "output_type": "execute_result",
          "data": {
            "text/plain": [
              "255"
            ]
          },
          "metadata": {},
          "execution_count": 42
        }
      ]
    },
    {
      "cell_type": "code",
      "source": [
        "para_cell.max()"
      ],
      "metadata": {
        "colab": {
          "base_uri": "https://localhost:8080/"
        },
        "id": "kZvfsF8kJM6g",
        "outputId": "892fca86-aa00-4e2c-b052-55350546f64d"
      },
      "execution_count": 43,
      "outputs": [
        {
          "output_type": "execute_result",
          "data": {
            "text/plain": [
              "255"
            ]
          },
          "metadata": {},
          "execution_count": 43
        }
      ]
    },
    {
      "cell_type": "code",
      "source": [
        ""
      ],
      "metadata": {
        "id": "3yAJNmWQJM2x"
      },
      "execution_count": 43,
      "outputs": []
    },
    {
      "cell_type": "code",
      "source": [
        ""
      ],
      "metadata": {
        "id": "3gRNxZaWJMuS"
      },
      "execution_count": 43,
      "outputs": []
    },
    {
      "cell_type": "markdown",
      "metadata": {
        "id": "sKZ32NunGTas"
      },
      "source": [
        "## Image Data Generator"
      ]
    },
    {
      "cell_type": "markdown",
      "metadata": {
        "id": "QlO_Ei6NGTas"
      },
      "source": [
        "**Image Manipulation**\n",
        "\n",
        "We can use the ImageDataGenerator to manipulate the images with rotation, resizing, and scaling so the model becomes more robust to different images that our data set doesn't have. ImageDataGenerator does the followings.\n",
        "\n",
        "* Accepts a batch of images used for training.\n",
        "* Applies a series of random transformations to each image in the batch.\n",
        "* Replaces the original batch with randomly transformed batch.\n",
        "* Training the CNN on this randomly transformed batch.\n",
        "\n",
        "The goal of applying data augmentation is to have a more generalized model.\n",
        "\n",
        "Data augmentation is a way to try and prevent a model overfitting. If your model is overfiting (e.g. the validation loss keeps increasing), you may want to try using data augmentation."
      ]
    },
    {
      "cell_type": "code",
      "execution_count": 44,
      "metadata": {
        "id": "PGBWdcVaSRU2"
      },
      "outputs": [],
      "source": [
        "from tensorflow.keras.preprocessing.image import ImageDataGenerator"
      ]
    },
    {
      "cell_type": "code",
      "execution_count": 45,
      "metadata": {
        "id": "CPuDygZISRU2"
      },
      "outputs": [],
      "source": [
        "image_gen = ImageDataGenerator(rotation_range=15, \n",
        "                               width_shift_range=0.10, \n",
        "                               height_shift_range=0.10, \n",
        "                               rescale=1/255, \n",
        "                               shear_range=0.1, \n",
        "                               zoom_range=0.1, \n",
        "                               horizontal_flip=True, \n",
        "                               fill_mode='nearest')"
      ]
    },
    {
      "cell_type": "code",
      "execution_count": 46,
      "metadata": {
        "id": "b2zQsGX0SRU2",
        "colab": {
          "base_uri": "https://localhost:8080/",
          "height": 269
        },
        "outputId": "b98523d3-5d48-41af-d83f-73a4f1d669fd"
      },
      "outputs": [
        {
          "output_type": "display_data",
          "data": {
            "text/plain": [
              "<Figure size 432x288 with 1 Axes>"
            ],
            "image/png": "[encoded data removed]"
          },
          "metadata": {
            "needs_background": "light"
          }
        }
      ],
      "source": [
        "plt.imshow(para_cell);"
      ]
    },
    {
      "cell_type": "code",
      "execution_count": 47,
      "metadata": {
        "id": "HJLFrPhQSRU2",
        "colab": {
          "base_uri": "https://localhost:8080/",
          "height": 269
        },
        "outputId": "52be1fd8-35b7-4db6-8511-2628e38d7c5a"
      },
      "outputs": [
        {
          "output_type": "display_data",
          "data": {
            "text/plain": [
              "<Figure size 432x288 with 1 Axes>"
            ],
            "image/png": "[encoded data removed]"
          },
          "metadata": {
            "needs_background": "light"
          }
        }
      ],
      "source": [
        "plt.imshow(image_gen.random_transform(para_cell));"
      ]
    },
    {
      "cell_type": "code",
      "execution_count": 47,
      "metadata": {
        "id": "d_h0ZgFaSRU2"
      },
      "outputs": [],
      "source": [
        ""
      ]
    },
    {
      "cell_type": "markdown",
      "metadata": {
        "id": "ifK_cFBVGTat"
      },
      "source": [
        "### Taking the path to a directory & Generating batches of augmented data\n",
        "\n",
        "flow_from_directory function works with images organized in sub-directories. Your directories should include only one class of images, so one folder per class of images."
      ]
    },
    {
      "cell_type": "markdown",
      "source": [
        "val+test kullanilacak burda"
      ],
      "metadata": {
        "id": "N3zsRenbKPL4"
      }
    },
    {
      "cell_type": "code",
      "source": [
        ""
      ],
      "metadata": {
        "id": "H4rf2sKMX6WG"
      },
      "execution_count": 47,
      "outputs": []
    },
    {
      "cell_type": "code",
      "source": [
        ""
      ],
      "metadata": {
        "id": "yqDT-L-vX6PY"
      },
      "execution_count": 47,
      "outputs": []
    },
    {
      "cell_type": "code",
      "execution_count": 48,
      "metadata": {
        "id": "ZyPnFurPSRU2",
        "colab": {
          "base_uri": "https://localhost:8080/"
        },
        "outputId": "52b68cd1-7e08-4078-98b7-fea2db1d5ead"
      },
      "outputs": [
        {
          "output_type": "stream",
          "name": "stdout",
          "text": [
            "Found 0 images belonging to 0 classes.\n"
          ]
        },
        {
          "output_type": "execute_result",
          "data": {
            "text/plain": [
              "<keras.preprocessing.image.DirectoryIterator at 0x7f7e90cbadd0>"
            ]
          },
          "metadata": {},
          "execution_count": 48
        }
      ],
      "source": [
        "image_gen.flow_from_directory(test_path)"
      ]
    },
    {
      "cell_type": "code",
      "execution_count": 49,
      "metadata": {
        "id": "9DoJB2ceSRU2",
        "colab": {
          "base_uri": "https://localhost:8080/"
        },
        "outputId": "1f43897f-45e2-4e28-95ee-2bf1cd7b0d67"
      },
      "outputs": [
        {
          "output_type": "stream",
          "name": "stdout",
          "text": [
            "Found 2290 images belonging to 2 classes.\n"
          ]
        },
        {
          "output_type": "execute_result",
          "data": {
            "text/plain": [
              "<keras.preprocessing.image.DirectoryIterator at 0x7f7e90d09310>"
            ]
          },
          "metadata": {},
          "execution_count": 49
        }
      ],
      "source": [
        "image_gen.flow_from_directory(val_path)"
      ]
    },
    {
      "cell_type": "code",
      "execution_count": 49,
      "metadata": {
        "id": "C9vGhrAySRU2"
      },
      "outputs": [],
      "source": [
        ""
      ]
    },
    {
      "cell_type": "code",
      "execution_count": 50,
      "metadata": {
        "id": "Zj9pjaJVSRU2"
      },
      "outputs": [],
      "source": [
        "batch_size = 32"
      ]
    },
    {
      "cell_type": "code",
      "execution_count": 51,
      "metadata": {
        "id": "hqLlzgvJSRU2",
        "colab": {
          "base_uri": "https://localhost:8080/"
        },
        "outputId": "273a05de-e395-48e1-849b-2d32fac3c993"
      },
      "outputs": [
        {
          "output_type": "stream",
          "name": "stdout",
          "text": [
            "Found 2290 images belonging to 2 classes.\n"
          ]
        }
      ],
      "source": [
        "val_image_gen = image_gen.flow_from_directory(directory=val_path,\n",
        "                                                target_size=image_shape[:2],\n",
        "                                                color_mode='rgb',\n",
        "                                                batch_size=batch_size,\n",
        "                                                class_mode='binary',\n",
        "                                                shuffle=True)"
      ]
    },
    {
      "cell_type": "code",
      "execution_count": 52,
      "metadata": {
        "id": "VJE9PB7iSRU2",
        "colab": {
          "base_uri": "https://localhost:8080/"
        },
        "outputId": "05aecd4c-0092-47e7-ccfd-8d8c10a80252"
      },
      "outputs": [
        {
          "output_type": "stream",
          "name": "stdout",
          "text": [
            "Found 17526 images belonging to 2 classes.\n"
          ]
        }
      ],
      "source": [
        "train_image_gen = image_gen.flow_from_directory(directory=train_path,\n",
        "                                                target_size=image_shape[:2],\n",
        "                                                color_mode='rgb',\n",
        "                                                batch_size=batch_size,\n",
        "                                                class_mode='binary',\n",
        "                                                shuffle=True)"
      ]
    },
    {
      "cell_type": "code",
      "execution_count": 53,
      "metadata": {
        "id": "NbLt4B1oSRU2",
        "colab": {
          "base_uri": "https://localhost:8080/"
        },
        "outputId": "379ab2e7-c64c-469c-fe8b-8e0f41475267"
      },
      "outputs": [
        {
          "output_type": "stream",
          "name": "stdout",
          "text": [
            "Found 0 images belonging to 0 classes.\n"
          ]
        }
      ],
      "source": [
        "test_image_gen = image_gen.flow_from_directory(directory=test_path,\n",
        "                                               target_size=image_shape[:2],\n",
        "                                               color_mode='rgb',\n",
        "                                               batch_size=batch_size,\n",
        "                                               class_mode='binary',\n",
        "                                               shuffle=False)"
      ]
    },
    {
      "cell_type": "code",
      "execution_count": 54,
      "metadata": {
        "id": "ceiiJcDqSRU2",
        "colab": {
          "base_uri": "https://localhost:8080/"
        },
        "outputId": "35080a5f-b79a-426f-8799-20ac862bdc73"
      },
      "outputs": [
        {
          "output_type": "execute_result",
          "data": {
            "text/plain": [
              "{}"
            ]
          },
          "metadata": {},
          "execution_count": 54
        }
      ],
      "source": [
        "test_image_gen.class_indices"
      ]
    },
    {
      "cell_type": "markdown",
      "metadata": {
        "id": "zpXcU5JVGTaw"
      },
      "source": [
        "# Modelling"
      ]
    },
    {
      "cell_type": "code",
      "execution_count": 4,
      "metadata": {
        "id": "h6jWLvvOSRU2"
      },
      "outputs": [],
      "source": [
        "from tensorflow.keras.models import Sequential\n",
        "from tensorflow.keras.layers import Activation, Dropout, Flatten, Dense, Conv2D, MaxPooling2D\n",
        "from tensorflow.keras.callbacks import EarlyStopping"
      ]
    },
    {
      "cell_type": "code",
      "execution_count": 5,
      "metadata": {
        "id": "ICiJqDHpSRU2",
        "colab": {
          "base_uri": "https://localhost:8080/",
          "height": 288
        },
        "outputId": "18188afd-8c53-4912-e434-358062e87349"
      },
      "outputs": [
        {
          "output_type": "error",
          "ename": "NameError",
          "evalue": "ignored",
          "traceback": [
            "\u001b[0;31m---------------------------------------------------------------------------\u001b[0m",
            "\u001b[0;31mNameError\u001b[0m                                 Traceback (most recent call last)",
            "\u001b[0;32m<ipython-input-5-373e277b2555>\u001b[0m in \u001b[0;36m<module>\u001b[0;34m()\u001b[0m\n\u001b[1;32m      7\u001b[0m \u001b[0;31m#\u001b[0m\u001b[0;34m\u001b[0m\u001b[0;34m\u001b[0m\u001b[0;34m\u001b[0m\u001b[0m\n\u001b[1;32m      8\u001b[0m \u001b[0;34m\u001b[0m\u001b[0m\n\u001b[0;32m----> 9\u001b[0;31m \u001b[0mmodel1\u001b[0m\u001b[0;34m.\u001b[0m\u001b[0madd\u001b[0m\u001b[0;34m(\u001b[0m\u001b[0mConv2D\u001b[0m\u001b[0;34m(\u001b[0m\u001b[0mfilters\u001b[0m\u001b[0;34m=\u001b[0m\u001b[0;36m32\u001b[0m\u001b[0;34m,\u001b[0m \u001b[0mkernel_size\u001b[0m\u001b[0;34m=\u001b[0m\u001b[0;34m(\u001b[0m\u001b[0;36m3\u001b[0m\u001b[0;34m,\u001b[0m\u001b[0;36m3\u001b[0m\u001b[0;34m)\u001b[0m\u001b[0;34m,\u001b[0m \u001b[0minput_shape\u001b[0m\u001b[0;34m=\u001b[0m\u001b[0mimage_shape\u001b[0m\u001b[0;34m,\u001b[0m \u001b[0mactivation\u001b[0m\u001b[0;34m=\u001b[0m\u001b[0;34m'relu'\u001b[0m\u001b[0;34m)\u001b[0m\u001b[0;34m)\u001b[0m\u001b[0;34m\u001b[0m\u001b[0;34m\u001b[0m\u001b[0m\n\u001b[0m\u001b[1;32m     10\u001b[0m \u001b[0mmodel1\u001b[0m\u001b[0;34m.\u001b[0m\u001b[0madd\u001b[0m\u001b[0;34m(\u001b[0m\u001b[0mMaxPooling2D\u001b[0m\u001b[0;34m(\u001b[0m\u001b[0mpool_size\u001b[0m\u001b[0;34m=\u001b[0m\u001b[0;34m(\u001b[0m\u001b[0;36m2\u001b[0m\u001b[0;34m,\u001b[0m \u001b[0;36m2\u001b[0m\u001b[0;34m)\u001b[0m\u001b[0;34m)\u001b[0m\u001b[0;34m)\u001b[0m\u001b[0;34m\u001b[0m\u001b[0;34m\u001b[0m\u001b[0m\n\u001b[1;32m     11\u001b[0m \u001b[0;31m# kanal sayisi 64 e cikardi\u001b[0m\u001b[0;34m\u001b[0m\u001b[0;34m\u001b[0m\u001b[0;34m\u001b[0m\u001b[0m\n",
            "\u001b[0;31mNameError\u001b[0m: name 'image_shape' is not defined"
          ]
        }
      ],
      "source": [
        "model1 = Sequential()\n",
        "#modell sequential\n",
        "# hepsi standart gelcek hoca yapmisti\n",
        "# 3 e 3 luk 32 filitre olcak\n",
        "#32 kanalli image olcak\n",
        "#padding yok\n",
        "#\n",
        "\n",
        "model1.add(Conv2D(filters=32, kernel_size=(3,3), input_shape=image_shape, activation='relu'))\n",
        "model1.add(MaxPooling2D(pool_size=(2, 2)))\n",
        "# kanal sayisi 64 e cikardi \n",
        "model1.add(Conv2D(filters=64, kernel_size=(3,3), activation='relu'))\n",
        "model1.add(MaxPooling2D(pool_size=(2, 2)))\n",
        "\n",
        "model1.add(Conv2D(filters=64, kernel_size=(3,3), activation='relu'))\n",
        "model1.add(MaxPooling2D(pool_size=(2, 2)))\n",
        "\n",
        "\n",
        "model1.add(Flatten())\n",
        "#flattendan  sonra hoca gebellikle 128 ile bitiriuyor\n",
        "\n",
        "\n",
        "model1.add(Dense(128))\n",
        "model1.add(Activation('relu'))\n",
        "\n",
        "model1.add(Dropout(0.5))\n",
        "\n",
        "model1.add(Dense(1))\n",
        "model1.add(Activation('sigmoid'))\n",
        "\n",
        "\n",
        "model1.compile(loss='binary_crossentropy',\n",
        "              optimizer='adam',\n",
        "              metrics=['accuracy'])"
      ]
    },
    {
      "cell_type": "code",
      "execution_count": 57,
      "metadata": {
        "id": "T3royW4MSRU2",
        "colab": {
          "base_uri": "https://localhost:8080/"
        },
        "outputId": "f2053198-1487-4225-f5be-381e923d509e"
      },
      "outputs": [
        {
          "output_type": "stream",
          "name": "stdout",
          "text": [
            "Model: \"sequential\"\n",
            "_________________________________________________________________\n",
            " Layer (type)                Output Shape              Param #   \n",
            "=================================================================\n",
            " conv2d (Conv2D)             (None, 298, 298, 32)      896       \n",
            "                                                                 \n",
            " max_pooling2d (MaxPooling2D  (None, 149, 149, 32)     0         \n",
            " )                                                               \n",
            "                                                                 \n",
            " conv2d_1 (Conv2D)           (None, 147, 147, 64)      18496     \n",
            "                                                                 \n",
            " max_pooling2d_1 (MaxPooling  (None, 73, 73, 64)       0         \n",
            " 2D)                                                             \n",
            "                                                                 \n",
            " conv2d_2 (Conv2D)           (None, 71, 71, 64)        36928     \n",
            "                                                                 \n",
            " max_pooling2d_2 (MaxPooling  (None, 35, 35, 64)       0         \n",
            " 2D)                                                             \n",
            "                                                                 \n",
            " flatten (Flatten)           (None, 78400)             0         \n",
            "                                                                 \n",
            " dense (Dense)               (None, 128)               10035328  \n",
            "                                                                 \n",
            " activation (Activation)     (None, 128)               0         \n",
            "                                                                 \n",
            " dropout (Dropout)           (None, 128)               0         \n",
            "                                                                 \n",
            " dense_1 (Dense)             (None, 1)                 129       \n",
            "                                                                 \n",
            " activation_1 (Activation)   (None, 1)                 0         \n",
            "                                                                 \n",
            "=================================================================\n",
            "Total params: 10,091,777\n",
            "Trainable params: 10,091,777\n",
            "Non-trainable params: 0\n",
            "_________________________________________________________________\n"
          ]
        }
      ],
      "source": [
        "model1.summary()"
      ]
    },
    {
      "cell_type": "code",
      "execution_count": 58,
      "metadata": {
        "id": "Weo6wYM_SRU2"
      },
      "outputs": [],
      "source": [
        "early_stop = EarlyStopping(monitor='val_loss', patience=2, restore_best_weights = True)"
      ]
    },
    {
      "cell_type": "code",
      "source": [
        "model1.fit(train_image_gen,\n",
        "          epochs=10,\n",
        "          steps_per_epoch=len(train_image_gen),\n",
        "          validation_data=val_image_gen,\n",
        "          validation_steps=len(val_image_gen),\n",
        "          callbacks=[early_stop])"
      ],
      "metadata": {
        "colab": {
          "base_uri": "https://localhost:8080/"
        },
        "id": "EQqo3twvcOlv",
        "outputId": "58fcc169-cfc1-452b-cf7b-625286abf34c"
      },
      "execution_count": 59,
      "outputs": [
        {
          "output_type": "stream",
          "name": "stdout",
          "text": [
            "Epoch 1/10\n",
            "548/548 [==============================] - 405s 729ms/step - loss: 0.5906 - accuracy: 0.7193 - val_loss: 0.7147 - val_accuracy: 0.5349\n",
            "Epoch 2/10\n",
            "548/548 [==============================] - 394s 719ms/step - loss: 0.5455 - accuracy: 0.7292 - val_loss: 0.6890 - val_accuracy: 0.6066\n",
            "Epoch 3/10\n",
            "548/548 [==============================] - 393s 718ms/step - loss: 0.4816 - accuracy: 0.7768 - val_loss: 0.6523 - val_accuracy: 0.6878\n",
            "Epoch 4/10\n",
            "548/548 [==============================] - 388s 708ms/step - loss: 0.4506 - accuracy: 0.7937 - val_loss: 0.6101 - val_accuracy: 0.6934\n",
            "Epoch 5/10\n",
            "548/548 [==============================] - 387s 706ms/step - loss: 0.4303 - accuracy: 0.8053 - val_loss: 0.5375 - val_accuracy: 0.7284\n",
            "Epoch 6/10\n",
            "548/548 [==============================] - 390s 712ms/step - loss: 0.4068 - accuracy: 0.8188 - val_loss: 0.4893 - val_accuracy: 0.7725\n",
            "Epoch 7/10\n",
            "548/548 [==============================] - 387s 707ms/step - loss: 0.3962 - accuracy: 0.8270 - val_loss: 0.4935 - val_accuracy: 0.7721\n",
            "Epoch 8/10\n",
            "548/548 [==============================] - 389s 710ms/step - loss: 0.3872 - accuracy: 0.8337 - val_loss: 0.4565 - val_accuracy: 0.7965\n",
            "Epoch 9/10\n",
            "548/548 [==============================] - 388s 709ms/step - loss: 0.3758 - accuracy: 0.8368 - val_loss: 0.5222 - val_accuracy: 0.7590\n",
            "Epoch 10/10\n",
            "548/548 [==============================] - 385s 703ms/step - loss: 0.3626 - accuracy: 0.8415 - val_loss: 0.5554 - val_accuracy: 0.7493\n"
          ]
        },
        {
          "output_type": "execute_result",
          "data": {
            "text/plain": [
              "<keras.callbacks.History at 0x7f7e90cc8750>"
            ]
          },
          "metadata": {},
          "execution_count": 59
        }
      ]
    },
    {
      "cell_type": "code",
      "execution_count": 60,
      "metadata": {
        "id": "Y6jU_d1OSRU2"
      },
      "outputs": [],
      "source": [
        "#model1.fit(val_image_gen,\n",
        "         # epochs=10,\n",
        "         # steps_per_epoch=len(val_image_gen),\n",
        "         # validation_data=test_image_gen,\n",
        "          #validation_steps=len(test_image_gen),\n",
        "          #callbacks=[early_stop])"
      ]
    },
    {
      "cell_type": "code",
      "execution_count": 2,
      "metadata": {
        "id": "noKeKaJ4SRU2",
        "colab": {
          "base_uri": "https://localhost:8080/",
          "height": 201
        },
        "outputId": "503c419e-148b-4fa6-cb06-8c27baefabd4"
      },
      "outputs": [
        {
          "output_type": "error",
          "ename": "NameError",
          "evalue": "ignored",
          "traceback": [
            "\u001b[0;31m---------------------------------------------------------------------------\u001b[0m",
            "\u001b[0;31mNameError\u001b[0m                                 Traceback (most recent call last)",
            "\u001b[0;32m<ipython-input-2-b51eac033a33>\u001b[0m in \u001b[0;36m<module>\u001b[0;34m()\u001b[0m\n\u001b[0;32m----> 1\u001b[0;31m \u001b[0mmodel1\u001b[0m\u001b[0;34m.\u001b[0m\u001b[0mmetrics_names\u001b[0m\u001b[0;34m\u001b[0m\u001b[0;34m\u001b[0m\u001b[0m\n\u001b[0m",
            "\u001b[0;31mNameError\u001b[0m: name 'model1' is not defined"
          ]
        }
      ],
      "source": [
        "model1.metrics_names"
      ]
    },
    {
      "cell_type": "code",
      "execution_count": 62,
      "metadata": {
        "id": "zJrGjGlfSRU2",
        "colab": {
          "base_uri": "https://localhost:8080/",
          "height": 363
        },
        "outputId": "cd4f0cef-c332-4737-db26-5e7e5f360c24"
      },
      "outputs": [
        {
          "output_type": "execute_result",
          "data": {
            "text/plain": [
              "   loss  accuracy  val_loss  val_accuracy\n",
              "0 0.591     0.719     0.715         0.535\n",
              "1 0.546     0.729     0.689         0.607\n",
              "2 0.482     0.777     0.652         0.688\n",
              "3 0.451     0.794     0.610         0.693\n",
              "4 0.430     0.805     0.537         0.728\n",
              "5 0.407     0.819     0.489         0.772\n",
              "6 0.396     0.827     0.494         0.772\n",
              "7 0.387     0.834     0.456         0.797\n",
              "8 0.376     0.837     0.522         0.759\n",
              "9 0.363     0.842     0.555         0.749"
            ],
            "text/html": [
              "\n",
              "  <div id=\"df-d7727253-516d-48e3-9c4a-dd43ff05a321\">\n",
              "    <div class=\"colab-df-container\">\n",
              "      <div>\n",
              "<style scoped>\n",
              "    .dataframe tbody tr th:only-of-type {\n",
              "        vertical-align: middle;\n",
              "    }\n",
              "\n",
              "    .dataframe tbody tr th {\n",
              "        vertical-align: top;\n",
              "    }\n",
              "\n",
              "    .dataframe thead th {\n",
              "        text-align: right;\n",
              "    }\n",
              "</style>\n",
              "<table border=\"1\" class=\"dataframe\">\n",
              "  <thead>\n",
              "    <tr style=\"text-align: right;\">\n",
              "      <th></th>\n",
              "      <th>loss</th>\n",
              "      <th>accuracy</th>\n",
              "      <th>val_loss</th>\n",
              "      <th>val_accuracy</th>\n",
              "    </tr>\n",
              "  </thead>\n",
              "  <tbody>\n",
              "    <tr>\n",
              "      <th>0</th>\n",
              "      <td>0.591</td>\n",
              "      <td>0.719</td>\n",
              "      <td>0.715</td>\n",
              "      <td>0.535</td>\n",
              "    </tr>\n",
              "    <tr>\n",
              "      <th>1</th>\n",
              "      <td>0.546</td>\n",
              "      <td>0.729</td>\n",
              "      <td>0.689</td>\n",
              "      <td>0.607</td>\n",
              "    </tr>\n",
              "    <tr>\n",
              "      <th>2</th>\n",
              "      <td>0.482</td>\n",
              "      <td>0.777</td>\n",
              "      <td>0.652</td>\n",
              "      <td>0.688</td>\n",
              "    </tr>\n",
              "    <tr>\n",
              "      <th>3</th>\n",
              "      <td>0.451</td>\n",
              "      <td>0.794</td>\n",
              "      <td>0.610</td>\n",
              "      <td>0.693</td>\n",
              "    </tr>\n",
              "    <tr>\n",
              "      <th>4</th>\n",
              "      <td>0.430</td>\n",
              "      <td>0.805</td>\n",
              "      <td>0.537</td>\n",
              "      <td>0.728</td>\n",
              "    </tr>\n",
              "    <tr>\n",
              "      <th>5</th>\n",
              "      <td>0.407</td>\n",
              "      <td>0.819</td>\n",
              "      <td>0.489</td>\n",
              "      <td>0.772</td>\n",
              "    </tr>\n",
              "    <tr>\n",
              "      <th>6</th>\n",
              "      <td>0.396</td>\n",
              "      <td>0.827</td>\n",
              "      <td>0.494</td>\n",
              "      <td>0.772</td>\n",
              "    </tr>\n",
              "    <tr>\n",
              "      <th>7</th>\n",
              "      <td>0.387</td>\n",
              "      <td>0.834</td>\n",
              "      <td>0.456</td>\n",
              "      <td>0.797</td>\n",
              "    </tr>\n",
              "    <tr>\n",
              "      <th>8</th>\n",
              "      <td>0.376</td>\n",
              "      <td>0.837</td>\n",
              "      <td>0.522</td>\n",
              "      <td>0.759</td>\n",
              "    </tr>\n",
              "    <tr>\n",
              "      <th>9</th>\n",
              "      <td>0.363</td>\n",
              "      <td>0.842</td>\n",
              "      <td>0.555</td>\n",
              "      <td>0.749</td>\n",
              "    </tr>\n",
              "  </tbody>\n",
              "</table>\n",
              "</div>\n",
              "      <button class=\"colab-df-convert\" onclick=\"convertToInteractive('df-d7727253-516d-48e3-9c4a-dd43ff05a321')\"\n",
              "              title=\"Convert this dataframe to an interactive table.\"\n",
              "              style=\"display:none;\">\n",
              "        \n",
              "  <svg xmlns=\"http://www.w3.org/2000/svg\" height=\"24px\"viewBox=\"0 0 24 24\"\n",
              "       width=\"24px\">\n",
              "    <path d=\"M0 0h24v24H0V0z\" fill=\"none\"/>\n",
              "    <path d=\"M18.56 5.44l.94 2.06.94-2.06 2.06-.94-2.06-.94-.94-2.06-.94 2.06-2.06.94zm-11 1L8.5 8.5l.94-2.06 2.06-.94-2.06-.94L8.5 2.5l-.94 2.06-2.06.94zm10 10l.94 2.06.94-2.06 2.06-.94-2.06-.94-.94-2.06-.94 2.06-2.06.94z\"/><path d=\"M17.41 7.96l-1.37-1.37c-.4-.4-.92-.59-1.43-.59-.52 0-1.04.2-1.43.59L10.3 9.45l-7.72 7.72c-.78.78-.78 2.05 0 2.83L4 21.41c.39.39.9.59 1.41.59.51 0 1.02-.2 1.41-.59l7.78-7.78 2.81-2.81c.8-.78.8-2.07 0-2.86zM5.41 20L4 18.59l7.72-7.72 1.47 1.35L5.41 20z\"/>\n",
              "  </svg>\n",
              "      </button>\n",
              "      \n",
              "  <style>\n",
              "    .colab-df-container {\n",
              "      display:flex;\n",
              "      flex-wrap:wrap;\n",
              "      gap: 12px;\n",
              "    }\n",
              "\n",
              "    .colab-df-convert {\n",
              "      background-color: #E8F0FE;\n",
              "      border: none;\n",
              "      border-radius: 50%;\n",
              "      cursor: pointer;\n",
              "      display: none;\n",
              "      fill: #1967D2;\n",
              "      height: 32px;\n",
              "      padding: 0 0 0 0;\n",
              "      width: 32px;\n",
              "    }\n",
              "\n",
              "    .colab-df-convert:hover {\n",
              "      background-color: #E2EBFA;\n",
              "      box-shadow: 0px 1px 2px rgba(60, 64, 67, 0.3), 0px 1px 3px 1px rgba(60, 64, 67, 0.15);\n",
              "      fill: #174EA6;\n",
              "    }\n",
              "\n",
              "    [theme=dark] .colab-df-convert {\n",
              "      background-color: #3B4455;\n",
              "      fill: #D2E3FC;\n",
              "    }\n",
              "\n",
              "    [theme=dark] .colab-df-convert:hover {\n",
              "      background-color: #434B5C;\n",
              "      box-shadow: 0px 1px 3px 1px rgba(0, 0, 0, 0.15);\n",
              "      filter: drop-shadow(0px 1px 2px rgba(0, 0, 0, 0.3));\n",
              "      fill: #FFFFFF;\n",
              "    }\n",
              "  </style>\n",
              "\n",
              "      <script>\n",
              "        const buttonEl =\n",
              "          document.querySelector('#df-d7727253-516d-48e3-9c4a-dd43ff05a321 button.colab-df-convert');\n",
              "        buttonEl.style.display =\n",
              "          google.colab.kernel.accessAllowed ? 'block' : 'none';\n",
              "\n",
              "        async function convertToInteractive(key) {\n",
              "          const element = document.querySelector('#df-d7727253-516d-48e3-9c4a-dd43ff05a321');\n",
              "          const dataTable =\n",
              "            await google.colab.kernel.invokeFunction('convertToInteractive',\n",
              "                                                     [key], {});\n",
              "          if (!dataTable) return;\n",
              "\n",
              "          const docLinkHtml = 'Like what you see? Visit the ' +\n",
              "            '<a target=\"_blank\" href=https://colab.research.google.com/notebooks/data_table.ipynb>data table notebook</a>'\n",
              "            + ' to learn more about interactive tables.';\n",
              "          element.innerHTML = '';\n",
              "          dataTable['output_type'] = 'display_data';\n",
              "          await google.colab.output.renderOutput(dataTable, element);\n",
              "          const docLink = document.createElement('div');\n",
              "          docLink.innerHTML = docLinkHtml;\n",
              "          element.appendChild(docLink);\n",
              "        }\n",
              "      </script>\n",
              "    </div>\n",
              "  </div>\n",
              "  "
            ]
          },
          "metadata": {},
          "execution_count": 62
        }
      ],
      "source": [
        "summary = pd.DataFrame(model1.history.history)\n",
        "summary"
      ]
    },
    {
      "cell_type": "code",
      "execution_count": 63,
      "metadata": {
        "id": "yjjm-xE3SRU2",
        "colab": {
          "base_uri": "https://localhost:8080/",
          "height": 265
        },
        "outputId": "d4a57f5a-dee5-46d1-c26c-dc9e2b436c98"
      },
      "outputs": [
        {
          "output_type": "display_data",
          "data": {
            "text/plain": [
              "<Figure size 432x288 with 1 Axes>"
            ],
            "image/png": "[encoded data removed]"
          },
          "metadata": {
            "needs_background": "light"
          }
        }
      ],
      "source": [
        "summary[[\"loss\", \"val_loss\"]].plot();"
      ]
    },
    {
      "cell_type": "code",
      "execution_count": 1,
      "metadata": {
        "id": "lYFf_RHVSRU3",
        "colab": {
          "base_uri": "https://localhost:8080/",
          "height": 201
        },
        "outputId": "58f2c949-b2df-4db7-d26a-85ddc9b93210"
      },
      "outputs": [
        {
          "output_type": "error",
          "ename": "NameError",
          "evalue": "ignored",
          "traceback": [
            "\u001b[0;31m---------------------------------------------------------------------------\u001b[0m",
            "\u001b[0;31mNameError\u001b[0m                                 Traceback (most recent call last)",
            "\u001b[0;32m<ipython-input-1-b68c04c9dd95>\u001b[0m in \u001b[0;36m<module>\u001b[0;34m()\u001b[0m\n\u001b[0;32m----> 1\u001b[0;31m \u001b[0msummary\u001b[0m\u001b[0;34m[\u001b[0m\u001b[0;34m[\u001b[0m\u001b[0;34m\"accuracy\"\u001b[0m\u001b[0;34m,\u001b[0m \u001b[0;34m\"val_accuracy\"\u001b[0m\u001b[0;34m]\u001b[0m\u001b[0;34m]\u001b[0m\u001b[0;34m.\u001b[0m\u001b[0mplot\u001b[0m\u001b[0;34m(\u001b[0m\u001b[0;34m)\u001b[0m\u001b[0;34m;\u001b[0m\u001b[0;34m\u001b[0m\u001b[0;34m\u001b[0m\u001b[0m\n\u001b[0m",
            "\u001b[0;31mNameError\u001b[0m: name 'summary' is not defined"
          ]
        }
      ],
      "source": [
        "summary[[\"accuracy\", \"val_accuracy\"]].plot();"
      ]
    },
    {
      "cell_type": "markdown",
      "metadata": {
        "id": "5hU26rwQGTay"
      },
      "source": [
        "# Evaluation on Test Data"
      ]
    },
    {
      "cell_type": "code",
      "execution_count": null,
      "metadata": {
        "id": "pIx_JyKfSRU4"
      },
      "outputs": [],
      "source": [
        "from sklearn.metrics import classification_report, confusion_matrix"
      ]
    },
    {
      "cell_type": "code",
      "execution_count": null,
      "metadata": {
        "id": "nqB9j33uSRU4"
      },
      "outputs": [],
      "source": [
        "score = model1.evaluate(val_image_gen)\n",
        "print('Test loss:', score[0])\n",
        "print('Test accuracy:', score[1])"
      ]
    },
    {
      "cell_type": "code",
      "execution_count": null,
      "metadata": {
        "id": "RvHwdDFoSRU4"
      },
      "outputs": [],
      "source": [
        "pred_prob = model1.predict(val_image_gen)"
      ]
    },
    {
      "cell_type": "code",
      "execution_count": 68,
      "metadata": {
        "id": "EaZVQyapSRU4",
        "colab": {
          "base_uri": "https://localhost:8080/"
        },
        "outputId": "aa3b62c1-6fc3-4603-c314-8fc0124017c7"
      },
      "outputs": [
        {
          "output_type": "execute_result",
          "data": {
            "text/plain": [
              "array([[0.5489689 ],\n",
              "       [0.9554038 ],\n",
              "       [0.01269479],\n",
              "       ...,\n",
              "       [0.05061103],\n",
              "       [0.67948496],\n",
              "       [0.26174313]], dtype=float32)"
            ]
          },
          "metadata": {},
          "execution_count": 68
        }
      ],
      "source": [
        "pred_prob"
      ]
    },
    {
      "cell_type": "code",
      "execution_count": null,
      "metadata": {
        "id": "t1QloXUNSRU4"
      },
      "outputs": [],
      "source": [
        "y_pred = pred_prob > 0.5"
      ]
    },
    {
      "cell_type": "code",
      "execution_count": null,
      "metadata": {
        "id": "7cS9f6UgSRU4"
      },
      "outputs": [],
      "source": [
        "y_pred\n"
      ]
    },
    {
      "cell_type": "code",
      "execution_count": null,
      "metadata": {
        "id": "a3fvibpPSRU4"
      },
      "outputs": [],
      "source": [
        "y_test = val_image_gen.classes\n",
        "y_test"
      ]
    },
    {
      "cell_type": "code",
      "execution_count": null,
      "metadata": {
        "id": "lGOi7Am6SRU4"
      },
      "outputs": [],
      "source": [
        "print(classification_report(y_test, y_pred))"
      ]
    },
    {
      "cell_type": "code",
      "source": [
        "confusion_matrix(y_test, y_pred)"
      ],
      "metadata": {
        "colab": {
          "base_uri": "https://localhost:8080/"
        },
        "id": "9VmlMCIYNI4U",
        "outputId": "03e307bf-bcab-40f1-9e95-6431fcffbd9b"
      },
      "execution_count": 73,
      "outputs": [
        {
          "output_type": "execute_result",
          "data": {
            "text/plain": [
              "array([[764, 455],\n",
              "       [693, 378]])"
            ]
          },
          "metadata": {},
          "execution_count": 73
        }
      ]
    },
    {
      "cell_type": "code",
      "source": [
        ""
      ],
      "metadata": {
        "id": "YCSOfZd-NI0j"
      },
      "execution_count": 73,
      "outputs": []
    },
    {
      "cell_type": "markdown",
      "metadata": {
        "id": "4TWrdbLfGTa3"
      },
      "source": [
        "# Prediction"
      ]
    },
    {
      "cell_type": "code",
      "execution_count": 73,
      "metadata": {
        "id": "xPdEaIMeSRU4"
      },
      "outputs": [],
      "source": [
        ""
      ]
    },
    {
      "cell_type": "code",
      "execution_count": 73,
      "metadata": {
        "id": "ThYL_BrISRU4"
      },
      "outputs": [],
      "source": [
        ""
      ]
    },
    {
      "cell_type": "code",
      "execution_count": 73,
      "metadata": {
        "id": "iykPD4rISRU4"
      },
      "outputs": [],
      "source": [
        ""
      ]
    },
    {
      "cell_type": "code",
      "execution_count": 73,
      "metadata": {
        "id": "iz6ETNvoSRU4"
      },
      "outputs": [],
      "source": [
        ""
      ]
    },
    {
      "cell_type": "code",
      "execution_count": 73,
      "metadata": {
        "id": "0Q7AVSF3SRU4"
      },
      "outputs": [],
      "source": [
        ""
      ]
    },
    {
      "cell_type": "code",
      "execution_count": 73,
      "metadata": {
        "id": "iBv072EgSRU4"
      },
      "outputs": [],
      "source": [
        ""
      ]
    },
    {
      "cell_type": "code",
      "execution_count": 73,
      "metadata": {
        "id": "imVcFdwpSRU4"
      },
      "outputs": [],
      "source": [
        ""
      ]
    },
    {
      "cell_type": "markdown",
      "metadata": {
        "id": "d7rpqC16GTa6"
      },
      "source": [
        "<p style=\"text-align: center;\"><img src=\"https://docs.google.com/uc?id=1lY0Uj5R04yMY3-ZppPWxqCr5pvBLYPnV\" class=\"img-fluid\" alt=\"Rossum\"></p>"
      ]
    }
  ],
  "metadata": {
    "accelerator": "GPU",
    "colab": {
      "collapsed_sections": [],
      "name": "CNN Project-Image Classification with CNN (catdogclassifier)-emine.ipynb adlı not defterinin kopyası",
      "provenance": [],
      "include_colab_link": true
    },
    "kernelspec": {
      "display_name": "Python 3",
      "language": "python",
      "name": "python3"
    },
    "language_info": {
      "codemirror_mode": {
        "name": "ipython",
        "version": 3
      },
      "file_extension": ".py",
      "mimetype": "text/x-python",
      "name": "python",
      "nbconvert_exporter": "python",
      "pygments_lexer": "ipython3",
      "version": "3.7.6"
    },
    "toc": {
      "base_numbering": 1,
      "nav_menu": {},
      "number_sections": false,
      "sideBar": true,
      "skip_h1_title": false,
      "title_cell": "Table of Contents",
      "title_sidebar": "Contents",
      "toc_cell": false,
      "toc_position": {},
      "toc_section_display": true,
      "toc_window_display": false
    },
    "gpuClass": "standard"
  },
  "nbformat": 4,
  "nbformat_minor": 0
}